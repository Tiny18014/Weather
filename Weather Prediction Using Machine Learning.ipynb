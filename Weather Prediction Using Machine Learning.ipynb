{
 "cells": [
  {
   "cell_type": "markdown",
   "id": "6221d42c",
   "metadata": {},
   "source": [
    "# Introduction:\n",
    "\n",
    "Weather prediction is a crucial aspect of daily life, affecting everything from agriculture to transportation to emergency preparedness. While traditional forecasting methods have come a long way, there is still much room for improvement in accuracy and efficiency. In recent years, machine learning (ML) has emerged as a promising approach to weather prediction. By leveraging the vast amounts of data collected from weather stations around the world, ML models can analyze complex patterns and relationships to make more accurate and timely predictions.\n",
    "\n",
    "In this research paper, we explore the application of ML to weather prediction. Specifically, we focus on the use of supervised learning algorithms, including decision trees, logistic regression, and k-nearest neighbors, to predict weather conditions based on historical data. We use a dataset containing daily weather measurements from multiple weather stations in a particular region and train our ML models on this data to predict future weather conditions.\n",
    "\n",
    "Our research aims to address several key questions, including: What types of ML algorithms are best suited for weather prediction? How does the size and quality of the training dataset affect the accuracy of the predictions? What features or variables have the most significant impact on weather prediction accuracy? By answering these questions, we hope to shed light on the potential of ML for weather prediction and provide insights into best practices for using these technologies in real-world applications.\n",
    "\n",
    "Overall, this research has the potential to make a significant contribution to the field of weather prediction and inform future research in this area. By demonstrating the effectiveness of ML for predicting weather conditions, we hope to inspire further exploration and innovation in this important domain."
   ]
  },
  {
   "cell_type": "markdown",
   "id": "TnfNDL5JGVRz",
   "metadata": {
    "id": "TnfNDL5JGVRz"
   },
   "source": [
    "*   In this report, we will use the \"seattle-weather.csv\" dataset from Kaggle to analyze and build predictive models of weather conditions based on accompanying conditions. This is a set of weather data in the US state of Seattle recorded on a daily basis for about 4 years, includes weather conditions such as observed date, high and low temperature, precipitation, speed wind and weather conditions of the day associated with those conditions. [Link dataset from Kaggle](https://www.kaggle.com/datasets/ananthr1/weather-prediction)\n",
    "\n",
    "*   Models used: Logistic Regression, Decision Tree, K-Nearest Neighbor Classifier (KNN)."
   ]
  },
  {
   "cell_type": "markdown",
   "id": "e9d185bf",
   "metadata": {
    "id": "e9d185bf",
    "papermill": {
     "duration": 0.05231,
     "end_time": "2022-01-20T02:34:35.818307",
     "exception": false,
     "start_time": "2022-01-20T02:34:35.765997",
     "status": "completed"
    },
    "tags": []
   },
   "source": [
    "# **Import Library**"
   ]
  },
  {
   "cell_type": "markdown",
   "id": "b73533d1",
   "metadata": {},
   "source": [
    "imports necessary libraries such as numpy, pandas, seaborn, etc. for data manipulation, visualization, statistical analysis, and machine learning."
   ]
  },
  {
   "cell_type": "code",
   "execution_count": 227,
   "id": "020616d2",
   "metadata": {
    "executionInfo": {
     "elapsed": 612,
     "status": "ok",
     "timestamp": 1657088029732,
     "user": {
      "displayName": "Quang Trung Huỳnh",
      "userId": "18209785149827384474"
     },
     "user_tz": -420
    },
    "id": "020616d2",
    "papermill": {
     "duration": 1.539745,
     "end_time": "2022-01-20T02:34:37.412420",
     "exception": false,
     "start_time": "2022-01-20T02:34:35.872675",
     "status": "completed"
    },
    "tags": []
   },
   "outputs": [],
   "source": [
    "import itertools\n",
    "import matplotlib.pyplot as plt\n",
    "import numpy as np\n",
    "import pandas as pd\n",
    "import re\n",
    "import scipy\n",
    "import seaborn as sns\n",
    "from scipy import stats\n",
    "from scipy.stats import pearsonr, ttest_ind\n",
    "from sklearn.metrics import accuracy_score, classification_report, confusion_matrix\n",
    "from sklearn.model_selection import train_test_split\n",
    "from sklearn.preprocessing import LabelEncoder, StandardScaler"
   ]
  },
  {
   "cell_type": "markdown",
   "id": "7d36594f",
   "metadata": {
    "id": "7d36594f",
    "papermill": {
     "duration": 0.045774,
     "end_time": "2022-01-20T02:34:37.504615",
     "exception": false,
     "start_time": "2022-01-20T02:34:37.458841",
     "status": "completed"
    },
    "tags": []
   },
   "source": [
    "# ** Understanding the dataset **"
   ]
  },
  {
   "cell_type": "code",
   "execution_count": 228,
   "id": "b64181b9",
   "metadata": {
    "colab": {
     "base_uri": "https://localhost:8080/",
     "height": 206
    },
    "executionInfo": {
     "elapsed": 683,
     "status": "ok",
     "timestamp": 1657088030782,
     "user": {
      "displayName": "Quang Trung Huỳnh",
      "userId": "18209785149827384474"
     },
     "user_tz": -420
    },
    "id": "b64181b9",
    "outputId": "4bdf7ae4-8aaa-43e6-e5a0-d6a086eae64a",
    "papermill": {
     "duration": 0.088913,
     "end_time": "2022-01-20T02:34:37.733108",
     "exception": false,
     "start_time": "2022-01-20T02:34:37.644195",
     "status": "completed"
    },
    "tags": []
   },
   "outputs": [
    {
     "name": "stdout",
     "output_type": "stream",
     "text": [
      "         date  precipitation  temp_max  temp_min  wind  weather\n",
      "0  2012-01-01            0.0      12.8       5.0   4.7  drizzle\n",
      "1  2012-01-02           10.9      10.6       2.8   4.5     rain\n",
      "2  2012-01-03            0.8      11.7       7.2   2.3     rain\n",
      "3  2012-01-04           20.3      12.2       5.6   4.7     rain\n",
      "4  2012-01-05            1.3       8.9       2.8   6.1     rain\n"
     ]
    }
   ],
   "source": [
    "# Load the CSV file into a DataFrame\n",
    "data = pd.read_csv(\"dataset.csv\")\n",
    "\n",
    "# Display the first five rows of the DataFrame\n",
    "print(data.head())\n"
   ]
  },
  {
   "cell_type": "code",
   "execution_count": 229,
   "id": "5426a3e3",
   "metadata": {
    "colab": {
     "base_uri": "https://localhost:8080/"
    },
    "executionInfo": {
     "elapsed": 118,
     "status": "ok",
     "timestamp": 1657088030784,
     "user": {
      "displayName": "Quang Trung Huỳnh",
      "userId": "18209785149827384474"
     },
     "user_tz": -420
    },
    "id": "5426a3e3",
    "outputId": "31c4facb-550d-44bd-deaf-b0c17e3d6098",
    "papermill": {
     "duration": 0.055306,
     "end_time": "2022-01-20T02:34:37.835143",
     "exception": false,
     "start_time": "2022-01-20T02:34:37.779837",
     "status": "completed"
    },
    "tags": []
   },
   "outputs": [
    {
     "name": "stdout",
     "output_type": "stream",
     "text": [
      "(1461, 6)\n"
     ]
    }
   ],
   "source": [
    "# Print the dimensions of the DataFrame\n",
    "print(data.shape)\n"
   ]
  },
  {
   "cell_type": "markdown",
   "id": "6165514e",
   "metadata": {
    "id": "6165514e",
    "papermill": {
     "duration": 0.046407,
     "end_time": "2022-01-20T02:34:37.929439",
     "exception": false,
     "start_time": "2022-01-20T02:34:37.883032",
     "status": "completed"
    },
    "tags": []
   },
   "source": [
    "There are **6 columns** with a total of **1461 rows** according to the observations in the dataset"
   ]
  },
  {
   "cell_type": "code",
   "execution_count": 230,
   "id": "NKIk2VsD-f5K",
   "metadata": {
    "colab": {
     "base_uri": "https://localhost:8080/"
    },
    "executionInfo": {
     "elapsed": 100,
     "status": "ok",
     "timestamp": 1657088030789,
     "user": {
      "displayName": "Quang Trung Huỳnh",
      "userId": "18209785149827384474"
     },
     "user_tz": -420
    },
    "id": "NKIk2VsD-f5K",
    "outputId": "038f0e73-5455-4218-d16f-a46a9945d9fe"
   },
   "outputs": [
    {
     "name": "stdout",
     "output_type": "stream",
     "text": [
      "<class 'pandas.core.frame.DataFrame'>\n",
      "RangeIndex: 1461 entries, 0 to 1460\n",
      "Data columns (total 6 columns):\n",
      " #   Column         Non-Null Count  Dtype  \n",
      "---  ------         --------------  -----  \n",
      " 0   date           1461 non-null   object \n",
      " 1   precipitation  1461 non-null   float64\n",
      " 2   temp_max       1461 non-null   float64\n",
      " 3   temp_min       1461 non-null   float64\n",
      " 4   wind           1461 non-null   float64\n",
      " 5   weather        1461 non-null   object \n",
      "dtypes: float64(4), object(2)\n",
      "memory usage: 68.6+ KB\n"
     ]
    }
   ],
   "source": [
    "# Print information about the data\n",
    "data.info()\n"
   ]
  },
  {
   "cell_type": "markdown",
   "id": "f0c0064d",
   "metadata": {
    "id": "f0c0064d",
    "papermill": {
     "duration": 0.045762,
     "end_time": "2022-01-20T02:34:37.597191",
     "exception": false,
     "start_time": "2022-01-20T02:34:37.551429",
     "status": "completed"
    },
    "tags": []
   },
   "source": [
    "There are **6 variables** corresponding to 6 columns in the dataset:\n",
    "* 4 variables indicating weather conditions including: `precipitation`, `temp_max`, `temp_min`, `wind`\n",
    "* 1 variable to record date information: `date` has the form YYYY-MM-DD\n",
    "* 1 variable indicating weather condition: `weather`"
   ]
  },
  {
   "cell_type": "markdown",
   "id": "bdSOkb61mLbk",
   "metadata": {
    "id": "bdSOkb61mLbk"
   },
   "source": [
    "* The variable `precipitation` indicates the precipitation information of all forms of water falling to the ground such as rain, hail, snowfall or drizzle.\n",
    "* The `temp_max` variable indicates the highest temperature of the day.\n",
    "* The `temp_min` variable indicates the lowest temperature of the day.\n",
    "* The `wind` variable stores wind speed information for the day.\n",
    "* the `weather` defines the weather of the day"
   ]
  },
  {
   "cell_type": "markdown",
   "id": "8e17024a",
   "metadata": {
    "id": "8e17024a",
    "papermill": {
     "duration": 0.046633,
     "end_time": "2022-01-20T02:34:38.022920",
     "exception": false,
     "start_time": "2022-01-20T02:34:37.976287",
     "status": "completed"
    },
    "tags": []
   },
   "source": [
    "##  Visualizing the dataset"
   ]
  },
  {
   "cell_type": "markdown",
   "id": "a691d4e2",
   "metadata": {
    "id": "a691d4e2",
    "papermill": {
     "duration": 0.047824,
     "end_time": "2022-01-20T02:34:38.117739",
     "exception": false,
     "start_time": "2022-01-20T02:34:38.069915",
     "status": "completed"
    },
    "tags": []
   },
   "source": [
    "In this step, we will conduct the analysis of the variables in the data set that we have collected above.\n",
    "\n",
    "First, we will start from the variable `weather` with the weather classification conditions."
   ]
  },
  {
   "cell_type": "code",
   "execution_count": 231,
   "id": "1d095673",
   "metadata": {},
   "outputs": [
    {
     "name": "stdout",
     "output_type": "stream",
     "text": [
      "\n",
      "Weather encoding mapping:\n",
      "0: drizzle\n",
      "1: fog\n",
      "2: rain\n",
      "3: snow\n",
      "4: sun\n"
     ]
    }
   ],
   "source": [
    "# Create a label encoder object\n",
    "le = LabelEncoder()\n",
    "\n",
    "# Fit the encoder to the weather column and transform the values\n",
    "data['weather_encoded'] = le.fit_transform(data['weather'])\n",
    "\n",
    "# Display the mapping of encoded values to weather types\n",
    "weather_mapping = dict(zip(le.transform(le.classes_), le.classes_))\n",
    "print(\"\\nWeather encoding mapping:\")\n",
    "for code, weather_type in weather_mapping.items():\n",
    "    print(f\"{code}: {weather_type}\")"
   ]
  },
  {
   "cell_type": "code",
   "execution_count": 232,
   "id": "33e9b0dd",
   "metadata": {},
   "outputs": [
    {
     "name": "stdout",
     "output_type": "stream",
     "text": [
      "(1461, 7)\n"
     ]
    }
   ],
   "source": [
    "# Print the dimensions of the DataFrame\n",
    "print(data.shape)\n"
   ]
  },
  {
   "cell_type": "code",
   "execution_count": 233,
   "id": "9a84453e",
   "metadata": {
    "colab": {
     "base_uri": "https://localhost:8080/"
    },
    "executionInfo": {
     "elapsed": 97,
     "status": "ok",
     "timestamp": 1657088030801,
     "user": {
      "displayName": "Quang Trung Huỳnh",
      "userId": "18209785149827384474"
     },
     "user_tz": -420
    },
    "id": "9a84453e",
    "outputId": "3827d982-73bb-4167-a54b-39df9e0090cc",
    "papermill": {
     "duration": 0.063662,
     "end_time": "2022-01-20T02:34:38.557562",
     "exception": false,
     "start_time": "2022-01-20T02:34:38.493900",
     "status": "completed"
    },
    "tags": []
   },
   "outputs": [
    {
     "name": "stdout",
     "output_type": "stream",
     "text": [
      "Percent of Rain: 43.87%\n",
      "Percent of Sun: 43.81%\n",
      "Percent of Fog: 6.91%\n",
      "Percent of Drizzle: 3.63%\n",
      "Percent of Snow: 1.78%\n"
     ]
    }
   ],
   "source": [
    "# Get the value counts of each unique value in the weather column\n",
    "weather_counts = data['weather'].value_counts()\n",
    "\n",
    "# Print the percentage of each unique value in the weather column\n",
    "for weather, count in weather_counts.items():\n",
    "    percent = (count / len(data)) * 100\n",
    "    print(f\"Percent of {weather.capitalize()}: {percent:.2f}%\")\n"
   ]
  },
  {
   "cell_type": "markdown",
   "id": "0a9f7150",
   "metadata": {
    "id": "0a9f7150",
    "papermill": {
     "duration": 0.048647,
     "end_time": "2022-01-20T02:34:38.654814",
     "exception": false,
     "start_time": "2022-01-20T02:34:38.606167",
     "status": "completed"
    },
    "tags": []
   },
   "source": [
    "* From the above graph and analysis, we can see that our dataset contains mostly `rain` and `sun` weather conditions with more than 600 data lines and is approximately the same when accounting for 43.3% of the set. data. For weather conditions such as `snow`, `fog` and `drizzle` there are less than 100 data lines when less than 10% of the dataset.\n",
    "* General comment: Since there is little data about `snow`, `fog` and `drizzle`, this can affect the accuracy of the model when predicting snow, fog and drizzle weather conditions. when too little data to train."
   ]
  },
  {
   "cell_type": "markdown",
   "id": "18ed3a58",
   "metadata": {
    "id": "18ed3a58",
    "papermill": {
     "duration": 0.047409,
     "end_time": "2022-01-20T02:34:38.750836",
     "exception": false,
     "start_time": "2022-01-20T02:34:38.703427",
     "status": "completed"
    },
    "tags": []
   },
   "source": [
    "Next, we will learn about the variables that play the role of weather conditions in the dataset, including: `precipitation`, `temp_max`, `temp_min`, `wind`"
   ]
  },
  {
   "cell_type": "code",
   "execution_count": 234,
   "id": "fc4901bb",
   "metadata": {
    "colab": {
     "base_uri": "https://localhost:8080/",
     "height": 300
    },
    "executionInfo": {
     "elapsed": 96,
     "status": "ok",
     "timestamp": 1657088030808,
     "user": {
      "displayName": "Quang Trung Huỳnh",
      "userId": "18209785149827384474"
     },
     "user_tz": -420
    },
    "id": "fc4901bb",
    "outputId": "a8c69e0e-baad-43a2-f142-6bd5f0a2ea8c",
    "papermill": {
     "duration": 0.074386,
     "end_time": "2022-01-20T02:34:38.873778",
     "exception": false,
     "start_time": "2022-01-20T02:34:38.799392",
     "status": "completed"
    },
    "tags": []
   },
   "outputs": [
    {
     "data": {
      "text/html": [
       "<div>\n",
       "<style scoped>\n",
       "    .dataframe tbody tr th:only-of-type {\n",
       "        vertical-align: middle;\n",
       "    }\n",
       "\n",
       "    .dataframe tbody tr th {\n",
       "        vertical-align: top;\n",
       "    }\n",
       "\n",
       "    .dataframe thead th {\n",
       "        text-align: right;\n",
       "    }\n",
       "</style>\n",
       "<table border=\"1\" class=\"dataframe\">\n",
       "  <thead>\n",
       "    <tr style=\"text-align: right;\">\n",
       "      <th></th>\n",
       "      <th>precipitation</th>\n",
       "      <th>temp_max</th>\n",
       "      <th>temp_min</th>\n",
       "      <th>wind</th>\n",
       "    </tr>\n",
       "  </thead>\n",
       "  <tbody>\n",
       "    <tr>\n",
       "      <th>count</th>\n",
       "      <td>1461.000000</td>\n",
       "      <td>1461.000000</td>\n",
       "      <td>1461.000000</td>\n",
       "      <td>1461.000000</td>\n",
       "    </tr>\n",
       "    <tr>\n",
       "      <th>mean</th>\n",
       "      <td>3.029432</td>\n",
       "      <td>16.439083</td>\n",
       "      <td>8.234771</td>\n",
       "      <td>3.241136</td>\n",
       "    </tr>\n",
       "    <tr>\n",
       "      <th>std</th>\n",
       "      <td>6.680194</td>\n",
       "      <td>7.349758</td>\n",
       "      <td>5.023004</td>\n",
       "      <td>1.437825</td>\n",
       "    </tr>\n",
       "    <tr>\n",
       "      <th>min</th>\n",
       "      <td>0.000000</td>\n",
       "      <td>-1.600000</td>\n",
       "      <td>-7.100000</td>\n",
       "      <td>0.400000</td>\n",
       "    </tr>\n",
       "    <tr>\n",
       "      <th>25%</th>\n",
       "      <td>0.000000</td>\n",
       "      <td>10.600000</td>\n",
       "      <td>4.400000</td>\n",
       "      <td>2.200000</td>\n",
       "    </tr>\n",
       "    <tr>\n",
       "      <th>50%</th>\n",
       "      <td>0.000000</td>\n",
       "      <td>15.600000</td>\n",
       "      <td>8.300000</td>\n",
       "      <td>3.000000</td>\n",
       "    </tr>\n",
       "    <tr>\n",
       "      <th>75%</th>\n",
       "      <td>2.800000</td>\n",
       "      <td>22.200000</td>\n",
       "      <td>12.200000</td>\n",
       "      <td>4.000000</td>\n",
       "    </tr>\n",
       "    <tr>\n",
       "      <th>max</th>\n",
       "      <td>55.900000</td>\n",
       "      <td>35.600000</td>\n",
       "      <td>18.300000</td>\n",
       "      <td>9.500000</td>\n",
       "    </tr>\n",
       "  </tbody>\n",
       "</table>\n",
       "</div>"
      ],
      "text/plain": [
       "       precipitation     temp_max     temp_min         wind\n",
       "count    1461.000000  1461.000000  1461.000000  1461.000000\n",
       "mean        3.029432    16.439083     8.234771     3.241136\n",
       "std         6.680194     7.349758     5.023004     1.437825\n",
       "min         0.000000    -1.600000    -7.100000     0.400000\n",
       "25%         0.000000    10.600000     4.400000     2.200000\n",
       "50%         0.000000    15.600000     8.300000     3.000000\n",
       "75%         2.800000    22.200000    12.200000     4.000000\n",
       "max        55.900000    35.600000    18.300000     9.500000"
      ]
     },
     "execution_count": 234,
     "metadata": {},
     "output_type": "execute_result"
    }
   ],
   "source": [
    "data[[\"precipitation\",\"temp_max\",\"temp_min\",\"wind\"]].describe()"
   ]
  },
  {
   "cell_type": "markdown",
   "id": "bdade2c8",
   "metadata": {
    "id": "bdade2c8",
    "papermill": {
     "duration": 0.047946,
     "end_time": "2022-01-20T02:34:38.969837",
     "exception": false,
     "start_time": "2022-01-20T02:34:38.921891",
     "status": "completed"
    },
    "tags": []
   },
   "source": [
    "We view the distribution of the value variables using the ***Histogram.*** graph."
   ]
  },
  {
   "cell_type": "code",
   "execution_count": 235,
   "id": "bab02ad0",
   "metadata": {
    "colab": {
     "base_uri": "https://localhost:8080/",
     "height": 505
    },
    "executionInfo": {
     "elapsed": 2349,
     "status": "ok",
     "timestamp": 1657088033063,
     "user": {
      "displayName": "Quang Trung Huỳnh",
      "userId": "18209785149827384474"
     },
     "user_tz": -420
    },
    "id": "bab02ad0",
    "outputId": "a9d1829b-7c02-4786-b23e-0d8a08c3498d",
    "papermill": {
     "duration": 1.291812,
     "end_time": "2022-01-20T02:34:40.310828",
     "exception": false,
     "start_time": "2022-01-20T02:34:39.019016",
     "status": "completed"
    },
    "tags": []
   },
   "outputs": [
    {
     "data": {
      "image/png": "[encoded data removed]",
      "text/plain": [
       "<Figure size 1000x800 with 4 Axes>"
      ]
     },
     "metadata": {},
     "output_type": "display_data"
    }
   ],
   "source": [
    "sns.set(style=\"darkgrid\")\n",
    "\n",
    "# Define the variables and colors for the subplots\n",
    "variables = [\"precipitation\", \"temp_max\", \"temp_min\", \"wind\"]\n",
    "colors = [\"green\", \"red\", \"skyblue\", \"orange\"]\n",
    "\n",
    "# Create the subplots using a loop\n",
    "fig, axs = plt.subplots(2, 2, figsize=(10, 8))\n",
    "for i, var in enumerate(variables):\n",
    "    sns.histplot(data=data, x=var, kde=True, ax=axs[i//2, i%2], color=colors[i])\n"
   ]
  },
  {
   "cell_type": "markdown",
   "id": "7f889a02",
   "metadata": {
    "id": "7f889a02",
    "papermill": {
     "duration": 0.05032,
     "end_time": "2022-01-20T02:34:40.411191",
     "exception": false,
     "start_time": "2022-01-20T02:34:40.360871",
     "status": "completed"
    },
    "tags": []
   },
   "source": [
    "* From the graphs above, it is clear that the distribution of `precipitation`, `wind` and has **positively skewed (right skewed)**. The right tail is longer than the left tail.\n",
    "* The distribution of `temp_min` has **negative skewness (left skewed)**\n",
    "* And both have some **outliers.**"
   ]
  },
  {
   "cell_type": "markdown",
   "id": "34eeb445",
   "metadata": {
    "id": "34eeb445",
    "papermill": {
     "duration": 0.051199,
     "end_time": "2022-01-20T02:34:41.774494",
     "exception": false,
     "start_time": "2022-01-20T02:34:41.723295",
     "status": "completed"
    },
    "tags": []
   },
   "source": [
    "## USING BOXPLOT TO FIND EXTERNAL VALUE AND DIVILITY OF CONDITION VALUES\n"
   ]
  },
  {
   "cell_type": "code",
   "execution_count": 236,
   "id": "037ee276",
   "metadata": {
    "colab": {
     "base_uri": "https://localhost:8080/",
     "height": 394
    },
    "executionInfo": {
     "elapsed": 47,
     "status": "ok",
     "timestamp": 1657088033066,
     "user": {
      "displayName": "Quang Trung Huỳnh",
      "userId": "18209785149827384474"
     },
     "user_tz": -420
    },
    "id": "037ee276",
    "outputId": "aa20a49d-46ea-47fb-a548-3879f8e2fb65",
    "papermill": {
     "duration": 0.345651,
     "end_time": "2022-01-20T02:34:42.172152",
     "exception": false,
     "start_time": "2022-01-20T02:34:41.826501",
     "status": "completed"
    },
    "tags": []
   },
   "outputs": [
    {
     "name": "stderr",
     "output_type": "stream",
     "text": [
      "C:\\Users\\shubh\\AppData\\Local\\Temp\\ipykernel_10500\\3600717101.py:8: FutureWarning: \n",
      "\n",
      "Passing `palette` without assigning `hue` is deprecated and will be removed in v0.14.0. Assign the `y` variable to `hue` and set `legend=False` for the same effect.\n",
      "\n",
      "  sns.boxplot(x=\"precipitation\", y=\"weather\", data=data, palette=\"winter\", ax=ax)\n"
     ]
    },
    {
     "data": {
      "image/png": "[encoded data removed]",
      "text/plain": [
       "<Figure size 1200x600 with 1 Axes>"
      ]
     },
     "metadata": {},
     "output_type": "display_data"
    }
   ],
   "source": [
    "# Use a context manager to apply the default style to the plot\n",
    "with plt.style.context('default'):\n",
    "    \n",
    "    # Create a figure with the specified size and an axis object\n",
    "    fig, ax = plt.subplots(figsize=(12, 6))\n",
    "    \n",
    "    # Plot a boxplot with the given data, using the specified x and y variables, color palette, and axis object\n",
    "    sns.boxplot(x=\"precipitation\", y=\"weather\", data=data, palette=\"winter\", ax=ax)\n",
    "    \n",
    "    # Optional: set axis labels and title if desired\n",
    "    ax.set(xlabel='Precipitation', ylabel='Weather', title='Boxplot of Weather vs. Precipitation') \n"
   ]
  },
  {
   "cell_type": "markdown",
   "id": "ba1d904a",
   "metadata": {
    "id": "ba1d904a",
    "papermill": {
     "duration": 0.052183,
     "end_time": "2022-01-20T02:34:42.278775",
     "exception": false,
     "start_time": "2022-01-20T02:34:42.226592",
     "status": "completed"
    },
    "tags": []
   },
   "source": [
    "From the boxplot between `weather` and `precipitation` above, the value of `rain` has many positive outliers, and both `rain` and `snow` are right-skewed/positively skewed."
   ]
  },
  {
   "cell_type": "code",
   "execution_count": 237,
   "id": "c18d50fa",
   "metadata": {
    "colab": {
     "base_uri": "https://localhost:8080/",
     "height": 394
    },
    "executionInfo": {
     "elapsed": 839,
     "status": "ok",
     "timestamp": 1657088033868,
     "user": {
      "displayName": "Quang Trung Huỳnh",
      "userId": "18209785149827384474"
     },
     "user_tz": -420
    },
    "id": "c18d50fa",
    "outputId": "0a9e74b1-0b12-426c-f215-9dd6a5ab65fd",
    "papermill": {
     "duration": 0.362034,
     "end_time": "2022-01-20T02:34:42.693296",
     "exception": false,
     "start_time": "2022-01-20T02:34:42.331262",
     "status": "completed"
    },
    "tags": []
   },
   "outputs": [
    {
     "name": "stderr",
     "output_type": "stream",
     "text": [
      "C:\\Users\\shubh\\AppData\\Local\\Temp\\ipykernel_10500\\4085889016.py:3: FutureWarning: \n",
      "\n",
      "Passing `palette` without assigning `hue` is deprecated and will be removed in v0.14.0. Assign the `y` variable to `hue` and set `legend=False` for the same effect.\n",
      "\n",
      "  sns.boxplot(x=\"temp_max\", y=\"weather\", data=data, palette=\"spring\", ax=ax)\n"
     ]
    },
    {
     "data": {
      "image/png": "[encoded data removed]",
      "text/plain": [
       "<Figure size 1200x600 with 1 Axes>"
      ]
     },
     "metadata": {},
     "output_type": "display_data"
    }
   ],
   "source": [
    "with plt.style.context('default'):\n",
    "    fig, ax = plt.subplots(figsize=(12, 6))\n",
    "    sns.boxplot(x=\"temp_max\", y=\"weather\", data=data, palette=\"spring\", ax=ax)\n"
   ]
  },
  {
   "cell_type": "code",
   "execution_count": 238,
   "id": "38a549c1",
   "metadata": {
    "colab": {
     "base_uri": "https://localhost:8080/",
     "height": 394
    },
    "executionInfo": {
     "elapsed": 132,
     "status": "ok",
     "timestamp": 1657088033877,
     "user": {
      "displayName": "Quang Trung Huỳnh",
      "userId": "18209785149827384474"
     },
     "user_tz": -420
    },
    "id": "38a549c1",
    "outputId": "176750db-9514-458f-deed-c337680b352a",
    "papermill": {
     "duration": 0.339157,
     "end_time": "2022-01-20T02:34:43.086863",
     "exception": false,
     "start_time": "2022-01-20T02:34:42.747706",
     "status": "completed"
    },
    "tags": []
   },
   "outputs": [
    {
     "name": "stderr",
     "output_type": "stream",
     "text": [
      "C:\\Users\\shubh\\AppData\\Local\\Temp\\ipykernel_10500\\4058417402.py:3: FutureWarning: \n",
      "\n",
      "Passing `palette` without assigning `hue` is deprecated and will be removed in v0.14.0. Assign the `y` variable to `hue` and set `legend=False` for the same effect.\n",
      "\n",
      "  sns.boxplot(x=\"wind\", y=\"weather\", data=data, palette=\"summer\", ax=ax)\n"
     ]
    },
    {
     "data": {
      "image/png": "[encoded data removed]",
      "text/plain": [
       "<Figure size 1200x600 with 1 Axes>"
      ]
     },
     "metadata": {},
     "output_type": "display_data"
    }
   ],
   "source": [
    "with plt.style.context('default'):\n",
    "    fig, ax = plt.subplots(figsize=(12, 6))\n",
    "    sns.boxplot(x=\"wind\", y=\"weather\", data=data, palette=\"summer\", ax=ax)\n"
   ]
  },
  {
   "cell_type": "markdown",
   "id": "26f8a068",
   "metadata": {
    "id": "26f8a068",
    "papermill": {
     "duration": 0.056235,
     "end_time": "2022-01-20T02:34:43.200814",
     "exception": false,
     "start_time": "2022-01-20T02:34:43.144579",
     "status": "completed"
    },
    "tags": []
   },
   "source": [
    "From the boxplots above, we see that each attribute of `weather` has some positive outliers and also includes both left and right offsets."
   ]
  },
  {
   "cell_type": "code",
   "execution_count": 239,
   "id": "03664b32",
   "metadata": {
    "colab": {
     "base_uri": "https://localhost:8080/",
     "height": 394
    },
    "executionInfo": {
     "elapsed": 1044,
     "status": "ok",
     "timestamp": 1657088034803,
     "user": {
      "displayName": "Quang Trung Huỳnh",
      "userId": "18209785149827384474"
     },
     "user_tz": -420
    },
    "id": "03664b32",
    "outputId": "9c5b16e0-ca3c-49d0-bd83-289f09a65fb2",
    "papermill": {
     "duration": 0.339761,
     "end_time": "2022-01-20T02:34:43.597628",
     "exception": false,
     "start_time": "2022-01-20T02:34:43.257867",
     "status": "completed"
    },
    "tags": []
   },
   "outputs": [
    {
     "name": "stderr",
     "output_type": "stream",
     "text": [
      "C:\\Users\\shubh\\AppData\\Local\\Temp\\ipykernel_10500\\950541548.py:3: FutureWarning: \n",
      "\n",
      "Passing `palette` without assigning `hue` is deprecated and will be removed in v0.14.0. Assign the `y` variable to `hue` and set `legend=False` for the same effect.\n",
      "\n",
      "  sns.boxplot(x=\"temp_min\", y=\"weather\", data=data, palette=\"autumn\", ax=ax)\n"
     ]
    },
    {
     "data": {
      "image/png": "[encoded data removed]",
      "text/plain": [
       "<Figure size 1200x600 with 1 Axes>"
      ]
     },
     "metadata": {},
     "output_type": "display_data"
    }
   ],
   "source": [
    "with plt.style.context('default'):\n",
    "    fig, ax = plt.subplots(figsize=(12, 6))\n",
    "    sns.boxplot(x=\"temp_min\", y=\"weather\", data=data, palette=\"autumn\", ax=ax)\n"
   ]
  },
  {
   "cell_type": "markdown",
   "id": "YAQEF7mMuMRT",
   "metadata": {
    "id": "YAQEF7mMuMRT"
   },
   "source": [
    "Observed from the boxplot between `weather` and `temp_min`, we see that the weather condition `sun` has negative outliers and `snow` has both negative and positive outliers, where `snow` is skewed to the left."
   ]
  },
  {
   "cell_type": "code",
   "execution_count": 240,
   "id": "ee5a2b26",
   "metadata": {
    "colab": {
     "base_uri": "https://localhost:8080/",
     "height": 322
    },
    "executionInfo": {
     "elapsed": 586,
     "status": "ok",
     "timestamp": 1657088035097,
     "user": {
      "displayName": "Quang Trung Huỳnh",
      "userId": "18209785149827384474"
     },
     "user_tz": -420
    },
    "id": "ee5a2b26",
    "outputId": "2a559ffa-75b8-4569-b3b2-a9343efbd8fb",
    "papermill": {
     "duration": 0.356871,
     "end_time": "2022-01-20T02:34:44.904601",
     "exception": false,
     "start_time": "2022-01-20T02:34:44.547730",
     "status": "completed"
    },
    "tags": []
   },
   "outputs": [
    {
     "data": {
      "image/png": "[encoded data removed]",
      "text/plain": [
       "<Figure size 640x480 with 1 Axes>"
      ]
     },
     "metadata": {},
     "output_type": "display_data"
    }
   ],
   "source": [
    "# Calculate the Pearson correlation coefficient and t-test p-value between the precipitation and temp_max variables\n",
    "corr = data[\"precipitation\"].corr(data[\"temp_max\"])\n",
    "ttest, pvalue = stats.ttest_ind(data[\"precipitation\"],data[\"temp_max\"])\n",
    "\n",
    "# Use a context manager to apply the default style to the plot\n",
    "with plt.style.context('default'):\n",
    "    \n",
    "    # Create a scatter plot of the precipitation and temp_max variables\n",
    "    ax = data.plot(\"precipitation\", \"temp_max\", style='o')\n",
    "    \n",
    "    # Add a title to the plot\n",
    "    ax.set_title('Scatter Plot of Precipitation vs. Maximum Temperature')\n",
    "    \n",
    "    # Add labels to the x and y axes\n",
    "    ax.set_xlabel('Precipitation')\n",
    "    ax.set_ylabel('Maximum Temperature')\n",
    "    \n",
    "    # Add a text box to the plot with the Pearson correlation coefficient and t-test p-value\n",
    "    textstr = f'Pearson Correlation: {corr:.2f}\\nT-Test P-Value: {pvalue:.2e}'\n",
    "    ax.text(0.05, 0.95, textstr, transform=ax.transAxes, fontsize=12,\n",
    "            verticalalignment='top', bbox=dict(facecolor='white', edgecolor='none', alpha=0.8))\n"
   ]
  },
  {
   "cell_type": "code",
   "execution_count": 241,
   "id": "6934d1a1",
   "metadata": {
    "colab": {
     "base_uri": "https://localhost:8080/",
     "height": 322
    },
    "executionInfo": {
     "elapsed": 1476,
     "status": "ok",
     "timestamp": 1657088036046,
     "user": {
      "displayName": "Quang Trung Huỳnh",
      "userId": "18209785149827384474"
     },
     "user_tz": -420
    },
    "id": "6934d1a1",
    "outputId": "42a0ced3-5247-4ea4-c7a1-0856e3c62f41",
    "papermill": {
     "duration": 0.326585,
     "end_time": "2022-01-20T02:34:45.298679",
     "exception": false,
     "start_time": "2022-01-20T02:34:44.972094",
     "status": "completed"
    },
    "tags": []
   },
   "outputs": [
    {
     "data": {
      "text/plain": [
       "[Text(0.5, 1.0, 'Scatter plot of Wind vs. Maximum Temperature')]"
      ]
     },
     "execution_count": 241,
     "metadata": {},
     "output_type": "execute_result"
    },
    {
     "data": {
      "image/png": "[encoded data removed]",
      "text/plain": [
       "<Figure size 800x600 with 1 Axes>"
      ]
     },
     "metadata": {},
     "output_type": "display_data"
    }
   ],
   "source": [
    "# Create a scatter plot with custom markers and colors, and specify axis object explicitly\n",
    "fig, ax = plt.subplots(figsize=(8, 6))\n",
    "ax.scatter(x=data[\"wind\"], y=data[\"temp_max\"], marker='o', s=50, alpha=0.8, color='blue')\n",
    "\n",
    "# Calculate Pearson correlation coefficient and p-value\n",
    "corr, p_value = np.corrcoef(data[\"wind\"], data[\"temp_max\"])[0, 1], np.mean(np.abs(stats.ttest_ind(data[\"wind\"], data[\"temp_max\"])[1]))\n",
    "\n",
    "# Display the correlation and p-value on the plot\n",
    "ax.text(0.95, 0.95, f\"Pearson correlation: {corr:.2f}\\nT Test and P value: {p_value:.2f}\", transform=ax.transAxes, ha='right', va='top', fontsize=12)\n",
    "\n",
    "# Add labels to the x and y axis\n",
    "ax.set(xlabel='Wind', ylabel='Maximum Temperature')\n",
    "\n",
    "# Add a title to the plot\n",
    "ax.set(title='Scatter plot of Wind vs. Maximum Temperature')\n"
   ]
  },
  {
   "cell_type": "markdown",
   "id": "2078a625",
   "metadata": {
    "id": "2078a625",
    "papermill": {
     "duration": 0.06046,
     "end_time": "2022-01-20T02:34:45.419376",
     "exception": false,
     "start_time": "2022-01-20T02:34:45.358916",
     "status": "completed"
    },
    "tags": []
   },
   "source": [
    "* According to the results of t-test and the calculated p-value is zero from above, it proves that the hypothesis H0 in the respective variables is rejected and the above variables are all statistically significant and have an influence on the results. forecast.\n",
    "\n",
    "* At the same time, we also see that the correlation coefficient between the above pairs of variables is in the range -1 < r < 0, this means that they have a weak correlation with each other or have a negative correlation coefficient and they are not. have a linear relationship with each other. That is, the value of variable x increases, the value of variable y decreases and vice versa, the value of variable y increases, the value of variable x decreases."
   ]
  },
  {
   "cell_type": "code",
   "execution_count": 242,
   "id": "34819f3e",
   "metadata": {
    "colab": {
     "base_uri": "https://localhost:8080/",
     "height": 322
    },
    "executionInfo": {
     "elapsed": 1366,
     "status": "ok",
     "timestamp": 1657088037322,
     "user": {
      "displayName": "Quang Trung Huỳnh",
      "userId": "18209785149827384474"
     },
     "user_tz": -420
    },
    "id": "34819f3e",
    "outputId": "32c2b827-8074-47fd-98ea-7712e1fba7cd",
    "papermill": {
     "duration": 0.339984,
     "end_time": "2022-01-20T02:34:45.820295",
     "exception": false,
     "start_time": "2022-01-20T02:34:45.480311",
     "status": "completed"
    },
    "tags": []
   },
   "outputs": [
    {
     "data": {
      "text/plain": [
       "[Text(0.5, 1.0, 'Scatter plot of Maximum vs. Minimum Temperature')]"
      ]
     },
     "execution_count": 242,
     "metadata": {},
     "output_type": "execute_result"
    },
    {
     "data": {
      "image/png": "[encoded data removed]",
      "text/plain": [
       "<Figure size 800x600 with 1 Axes>"
      ]
     },
     "metadata": {},
     "output_type": "display_data"
    }
   ],
   "source": [
    "\n",
    "# Create a scatter plot with custom markers and colors, and specify axis object explicitly\n",
    "fig, ax = plt.subplots(figsize=(8, 6))\n",
    "ax.scatter(x=data[\"temp_max\"], y=data[\"temp_min\"], marker='o', s=50, alpha=0.8, color='red')\n",
    "\n",
    "# Calculate Pearson correlation coefficient and p-value\n",
    "corr, p_value = np.corrcoef(data[\"temp_max\"], data[\"temp_min\"])[0, 1], np.mean(np.abs(np.subtract(data[\"temp_max\"], data[\"temp_min\"])))\n",
    "\n",
    "# Display the correlation and p-value on the plot\n",
    "ax.text(0.45, 0.95, f\"Pearson correlation: {corr:.2f}\\nT Test and P value: {p_value:.2f}\", transform=ax.transAxes, ha='right', va='top', fontsize=12)\n",
    "\n",
    "# Add labels to the x and y axis\n",
    "ax.set(xlabel='Maximum Temperature', ylabel='Minimum Temperature')\n",
    "\n",
    "# Add a title to the plot\n",
    "ax.set(title='Scatter plot of Maximum vs. Minimum Temperature')\n"
   ]
  },
  {
   "cell_type": "markdown",
   "id": "ZodPaQCBCI2t",
   "metadata": {
    "id": "ZodPaQCBCI2t"
   },
   "source": [
    "Based on the above graph, we can comment that the variable `temp_min` and the variable `temp_max` have a positive relationship with each other and this linear relationship is quite strong with a correlation coefficient of 0.87 close to 1. That is, the value of variable x increases, the value of variable y increases and vice versa, the value of variable y increases, the value of variable x also increases."
   ]
  },
  {
   "cell_type": "markdown",
   "id": "26fd925a",
   "metadata": {
    "id": "26fd925a",
    "papermill": {
     "duration": 0.061618,
     "end_time": "2022-01-20T02:34:45.943121",
     "exception": false,
     "start_time": "2022-01-20T02:34:45.881503",
     "status": "completed"
    },
    "tags": []
   },
   "source": [
    "## HANDLING NULL VALUES"
   ]
  },
  {
   "cell_type": "code",
   "execution_count": 243,
   "id": "2503c961",
   "metadata": {
    "colab": {
     "base_uri": "https://localhost:8080/",
     "height": 470
    },
    "executionInfo": {
     "elapsed": 821,
     "status": "ok",
     "timestamp": 1657088038083,
     "user": {
      "displayName": "Quang Trung Huỳnh",
      "userId": "18209785149827384474"
     },
     "user_tz": -420
    },
    "id": "2503c961",
    "outputId": "a224eea0-4eb6-4bd3-ce97-5c6b68b41c92",
    "papermill": {
     "duration": 0.651826,
     "end_time": "2022-01-20T02:34:46.916468",
     "exception": false,
     "start_time": "2022-01-20T02:34:46.264642",
     "status": "completed"
    },
    "tags": []
   },
   "outputs": [
    {
     "name": "stdout",
     "output_type": "stream",
     "text": [
      "date               0\n",
      "precipitation      0\n",
      "temp_max           0\n",
      "temp_min           0\n",
      "wind               0\n",
      "weather            0\n",
      "weather_encoded    0\n",
      "dtype: int64\n"
     ]
    }
   ],
   "source": [
    "# Find the total number of null values in each column\n",
    "null_count = data.isnull().sum()\n",
    "\n",
    "# Print the number of null values in each column\n",
    "print(null_count)\n"
   ]
  },
  {
   "cell_type": "markdown",
   "id": "0b8d2793",
   "metadata": {
    "id": "0b8d2793",
    "papermill": {
     "duration": 0.062933,
     "end_time": "2022-01-20T02:34:46.202696",
     "exception": false,
     "start_time": "2022-01-20T02:34:46.139763",
     "status": "completed"
    },
    "tags": []
   },
   "source": [
    "\n",
    "By looking above details, we can conclude that there are no NULL values ​​in the condition variables because the columns all have 1461 observations that are exactly the same as the number of rows of the data."
   ]
  },
  {
   "cell_type": "markdown",
   "id": "c7b377aa",
   "metadata": {
    "id": "c7b377aa",
    "papermill": {
     "duration": 0.062561,
     "end_time": "2022-01-20T02:34:47.075364",
     "exception": false,
     "start_time": "2022-01-20T02:34:47.012803",
     "status": "completed"
    },
    "tags": []
   },
   "source": [
    "# **2.DATA PROCESSING AND CLEANING:**"
   ]
  },
  {
   "cell_type": "markdown",
   "id": "9968824c",
   "metadata": {
    "id": "9968824c",
    "papermill": {
     "duration": 0.063945,
     "end_time": "2022-01-20T02:34:47.203848",
     "exception": false,
     "start_time": "2022-01-20T02:34:47.139903",
     "status": "completed"
    },
    "tags": []
   },
   "source": [
    "The first assumption here is that in this data set, the variable `date` is an unnecessary data variable that does not need to be used, does not affect the results in the process of building our predictive models. we. So in the first case, we will proceed to remove this variable from the dataset."
   ]
  },
  {
   "cell_type": "code",
   "execution_count": 244,
   "id": "01a7068b",
   "metadata": {
    "colab": {
     "base_uri": "https://localhost:8080/",
     "height": 206
    },
    "executionInfo": {
     "elapsed": 69,
     "status": "ok",
     "timestamp": 1657088038088,
     "user": {
      "displayName": "Quang Trung Huỳnh",
      "userId": "18209785149827384474"
     },
     "user_tz": -420
    },
    "id": "01a7068b",
    "outputId": "73b65986-64b2-4c9f-b30c-92ed85c1c138",
    "papermill": {
     "duration": 0.070257,
     "end_time": "2022-01-20T02:34:47.337418",
     "exception": false,
     "start_time": "2022-01-20T02:34:47.267161",
     "status": "completed"
    },
    "tags": []
   },
   "outputs": [
    {
     "data": {
      "text/html": [
       "<div>\n",
       "<style scoped>\n",
       "    .dataframe tbody tr th:only-of-type {\n",
       "        vertical-align: middle;\n",
       "    }\n",
       "\n",
       "    .dataframe tbody tr th {\n",
       "        vertical-align: top;\n",
       "    }\n",
       "\n",
       "    .dataframe thead th {\n",
       "        text-align: right;\n",
       "    }\n",
       "</style>\n",
       "<table border=\"1\" class=\"dataframe\">\n",
       "  <thead>\n",
       "    <tr style=\"text-align: right;\">\n",
       "      <th></th>\n",
       "      <th>precipitation</th>\n",
       "      <th>temp_max</th>\n",
       "      <th>temp_min</th>\n",
       "      <th>wind</th>\n",
       "      <th>weather</th>\n",
       "      <th>weather_encoded</th>\n",
       "    </tr>\n",
       "  </thead>\n",
       "  <tbody>\n",
       "    <tr>\n",
       "      <th>0</th>\n",
       "      <td>0.0</td>\n",
       "      <td>12.8</td>\n",
       "      <td>5.0</td>\n",
       "      <td>4.7</td>\n",
       "      <td>drizzle</td>\n",
       "      <td>0</td>\n",
       "    </tr>\n",
       "    <tr>\n",
       "      <th>1</th>\n",
       "      <td>10.9</td>\n",
       "      <td>10.6</td>\n",
       "      <td>2.8</td>\n",
       "      <td>4.5</td>\n",
       "      <td>rain</td>\n",
       "      <td>2</td>\n",
       "    </tr>\n",
       "    <tr>\n",
       "      <th>2</th>\n",
       "      <td>0.8</td>\n",
       "      <td>11.7</td>\n",
       "      <td>7.2</td>\n",
       "      <td>2.3</td>\n",
       "      <td>rain</td>\n",
       "      <td>2</td>\n",
       "    </tr>\n",
       "    <tr>\n",
       "      <th>3</th>\n",
       "      <td>20.3</td>\n",
       "      <td>12.2</td>\n",
       "      <td>5.6</td>\n",
       "      <td>4.7</td>\n",
       "      <td>rain</td>\n",
       "      <td>2</td>\n",
       "    </tr>\n",
       "    <tr>\n",
       "      <th>4</th>\n",
       "      <td>1.3</td>\n",
       "      <td>8.9</td>\n",
       "      <td>2.8</td>\n",
       "      <td>6.1</td>\n",
       "      <td>rain</td>\n",
       "      <td>2</td>\n",
       "    </tr>\n",
       "  </tbody>\n",
       "</table>\n",
       "</div>"
      ],
      "text/plain": [
       "   precipitation  temp_max  temp_min  wind  weather  weather_encoded\n",
       "0            0.0      12.8       5.0   4.7  drizzle                0\n",
       "1           10.9      10.6       2.8   4.5     rain                2\n",
       "2            0.8      11.7       7.2   2.3     rain                2\n",
       "3           20.3      12.2       5.6   4.7     rain                2\n",
       "4            1.3       8.9       2.8   6.1     rain                2"
      ]
     },
     "execution_count": 244,
     "metadata": {},
     "output_type": "execute_result"
    }
   ],
   "source": [
    "# Drop the \"date\" column from the dataframe\n",
    "df = data.drop(\"date\", axis=1)\n",
    "\n",
    "# Display the first 5 rows of the resulting dataframe\n",
    "df.head()\n"
   ]
  },
  {
   "cell_type": "markdown",
   "id": "4b0594e9",
   "metadata": {
    "id": "4b0594e9",
    "papermill": {
     "duration": 0.062618,
     "end_time": "2022-01-20T02:34:47.463993",
     "exception": false,
     "start_time": "2022-01-20T02:34:47.401375",
     "status": "completed"
    },
    "tags": []
   },
   "source": [
    "## 2.2. REMOVED OUTLIER POINTS AND INFINITE VALUES\n",
    "\n",
    "* Since the above dataset contains outliers, we will remove them to make the dataset more uniform.\n",
    "\n",
    "* We remove the Outlier points by calculating the interquartile range, then remove the values ​​outside the range (Q1-1.5*IQR, Q3+1.5*IQR). Points outside this range are called outliers."
   ]
  },
  {
   "cell_type": "code",
   "execution_count": 245,
   "id": "7b719595",
   "metadata": {
    "executionInfo": {
     "elapsed": 68,
     "status": "ok",
     "timestamp": 1657088038092,
     "user": {
      "displayName": "Quang Trung Huỳnh",
      "userId": "18209785149827384474"
     },
     "user_tz": -420
    },
    "id": "7b719595",
    "papermill": {
     "duration": 0.080829,
     "end_time": "2022-01-20T02:34:47.607831",
     "exception": false,
     "start_time": "2022-01-20T02:34:47.527002",
     "status": "completed"
    },
    "tags": []
   },
   "outputs": [
    {
     "name": "stdout",
     "output_type": "stream",
     "text": [
      "Original DataFrame shape: (1461, 6)\n",
      "DataFrame after removing outliers: (1233, 6)\n"
     ]
    }
   ],
   "source": [
    "# Calculate quartiles and IQR only on numeric columns\n",
    "# Use numeric_only=True to avoid operations on string columns\n",
    "Q1 = df.quantile(0.25, numeric_only=True)\n",
    "Q3 = df.quantile(0.75, numeric_only=True)\n",
    "IQR = Q3 - Q1\n",
    "\n",
    "# Create a mask for outlier detection\n",
    "# We need to handle each numeric column separately\n",
    "outlier_mask = pd.DataFrame(False, index=df.index, columns=df.columns)\n",
    "\n",
    "# Only check numeric columns for outliers\n",
    "numeric_cols = df.select_dtypes(include=['number']).columns\n",
    "for col in numeric_cols:\n",
    "    # Create lower and upper bounds for this column\n",
    "    lower_bound = Q1[col] - 1.5 * IQR[col]\n",
    "    upper_bound = Q3[col] + 1.5 * IQR[col]\n",
    "    \n",
    "    # Mark values outside the bounds as outliers\n",
    "    outlier_mask[col] = (df[col] < lower_bound) | (df[col] > upper_bound)\n",
    "\n",
    "# Keep rows that don't have outliers in any numeric column\n",
    "df_no_outliers = df[~outlier_mask.any(axis=1)]\n",
    "\n",
    "print(f\"Original DataFrame shape: {df.shape}\")\n",
    "print(f\"DataFrame after removing outliers: {df_no_outliers.shape}\")"
   ]
  },
  {
   "cell_type": "markdown",
   "id": "54c48d76",
   "metadata": {
    "id": "54c48d76",
    "papermill": {
     "duration": 0.06275,
     "end_time": "2022-01-20T02:34:47.734570",
     "exception": false,
     "start_time": "2022-01-20T02:34:47.671820",
     "status": "completed"
    },
    "tags": []
   },
   "source": [
    "## 2.3. HANDLING DIFFERENT DISTRIBUTIONS"
   ]
  },
  {
   "cell_type": "markdown",
   "id": "LkvqAwiIkCkR",
   "metadata": {
    "id": "LkvqAwiIkCkR"
   },
   "source": [
    "We treat two variables with skewed distribution, “precipition” and “wind” by\n",
    "take their square root."
   ]
  },
  {
   "cell_type": "code",
   "execution_count": 246,
   "id": "a3d41d9d",
   "metadata": {
    "executionInfo": {
     "elapsed": 67,
     "status": "ok",
     "timestamp": 1657088038095,
     "user": {
      "displayName": "Quang Trung Huỳnh",
      "userId": "18209785149827384474"
     },
     "user_tz": -420
    },
    "id": "a3d41d9d",
    "papermill": {
     "duration": 0.071375,
     "end_time": "2022-01-20T02:34:47.869129",
     "exception": false,
     "start_time": "2022-01-20T02:34:47.797754",
     "status": "completed"
    },
    "tags": []
   },
   "outputs": [],
   "source": [
    "# Take the square root of the \"precipitation\" column\n",
    "df[\"precipitation\"] = np.sqrt(df[\"precipitation\"])\n",
    "\n",
    "# Take the square root of the \"wind\" column\n",
    "df[\"wind\"] = np.sqrt(df[\"wind\"])\n"
   ]
  },
  {
   "cell_type": "code",
   "execution_count": 247,
   "id": "4e89bcd2",
   "metadata": {
    "colab": {
     "base_uri": "https://localhost:8080/",
     "height": 505
    },
    "executionInfo": {
     "elapsed": 3111,
     "status": "ok",
     "timestamp": 1657088041144,
     "user": {
      "displayName": "Quang Trung Huỳnh",
      "userId": "18209785149827384474"
     },
     "user_tz": -420
    },
    "id": "4e89bcd2",
    "outputId": "56c6cc67-4fc9-4fcd-adaa-7cafd05213d9",
    "papermill": {
     "duration": 1.057637,
     "end_time": "2022-01-20T02:34:49.002146",
     "exception": false,
     "start_time": "2022-01-20T02:34:47.944509",
     "status": "completed"
    },
    "tags": []
   },
   "outputs": [
    {
     "data": {
      "image/png": "[encoded data removed]",
      "text/plain": [
       "<Figure size 1000x800 with 4 Axes>"
      ]
     },
     "metadata": {},
     "output_type": "display_data"
    }
   ],
   "source": [
    "# set the plot style to darkgrid\n",
    "sns.set(style=\"darkgrid\")\n",
    "\n",
    "# create a 2x2 subplot grid with a specified size\n",
    "fig, axs = plt.subplots(2, 2, figsize=(10, 8))\n",
    "\n",
    "# loop through each column and its index in the dataframe\n",
    "for i, column in enumerate([\"precipitation\", \"temp_max\", \"temp_min\", \"wind\"]):\n",
    "    \n",
    "    # create a histogram plot for the current column, with a kernel density estimate\n",
    "    # set the current axis to the appropriate subplot in the grid\n",
    "    # set the color of the histogram based on the index of the current column\n",
    "    sns.histplot(data=df, x=column, kde=True, ax=axs[i//2, i%2], color=['green', 'red', 'skyblue', 'orange'][i])\n"
   ]
  },
  {
   "cell_type": "code",
   "execution_count": 248,
   "id": "dee53799",
   "metadata": {
    "colab": {
     "base_uri": "https://localhost:8080/",
     "height": 206
    },
    "executionInfo": {
     "elapsed": 127,
     "status": "ok",
     "timestamp": 1657088041146,
     "user": {
      "displayName": "Quang Trung Huỳnh",
      "userId": "18209785149827384474"
     },
     "user_tz": -420
    },
    "id": "dee53799",
    "outputId": "0accc28b-03a9-4e78-84fd-5f86380cf9f3",
    "papermill": {
     "duration": 0.081581,
     "end_time": "2022-01-20T02:34:49.149731",
     "exception": false,
     "start_time": "2022-01-20T02:34:49.068150",
     "status": "completed"
    },
    "tags": []
   },
   "outputs": [
    {
     "data": {
      "text/html": [
       "<div>\n",
       "<style scoped>\n",
       "    .dataframe tbody tr th:only-of-type {\n",
       "        vertical-align: middle;\n",
       "    }\n",
       "\n",
       "    .dataframe tbody tr th {\n",
       "        vertical-align: top;\n",
       "    }\n",
       "\n",
       "    .dataframe thead th {\n",
       "        text-align: right;\n",
       "    }\n",
       "</style>\n",
       "<table border=\"1\" class=\"dataframe\">\n",
       "  <thead>\n",
       "    <tr style=\"text-align: right;\">\n",
       "      <th></th>\n",
       "      <th>precipitation</th>\n",
       "      <th>temp_max</th>\n",
       "      <th>temp_min</th>\n",
       "      <th>wind</th>\n",
       "      <th>weather</th>\n",
       "      <th>weather_encoded</th>\n",
       "    </tr>\n",
       "  </thead>\n",
       "  <tbody>\n",
       "    <tr>\n",
       "      <th>0</th>\n",
       "      <td>0.000000</td>\n",
       "      <td>12.8</td>\n",
       "      <td>5.0</td>\n",
       "      <td>2.167948</td>\n",
       "      <td>drizzle</td>\n",
       "      <td>0</td>\n",
       "    </tr>\n",
       "    <tr>\n",
       "      <th>1</th>\n",
       "      <td>3.301515</td>\n",
       "      <td>10.6</td>\n",
       "      <td>2.8</td>\n",
       "      <td>2.121320</td>\n",
       "      <td>rain</td>\n",
       "      <td>2</td>\n",
       "    </tr>\n",
       "    <tr>\n",
       "      <th>2</th>\n",
       "      <td>0.894427</td>\n",
       "      <td>11.7</td>\n",
       "      <td>7.2</td>\n",
       "      <td>1.516575</td>\n",
       "      <td>rain</td>\n",
       "      <td>2</td>\n",
       "    </tr>\n",
       "    <tr>\n",
       "      <th>3</th>\n",
       "      <td>4.505552</td>\n",
       "      <td>12.2</td>\n",
       "      <td>5.6</td>\n",
       "      <td>2.167948</td>\n",
       "      <td>rain</td>\n",
       "      <td>2</td>\n",
       "    </tr>\n",
       "    <tr>\n",
       "      <th>4</th>\n",
       "      <td>1.140175</td>\n",
       "      <td>8.9</td>\n",
       "      <td>2.8</td>\n",
       "      <td>2.469818</td>\n",
       "      <td>rain</td>\n",
       "      <td>2</td>\n",
       "    </tr>\n",
       "  </tbody>\n",
       "</table>\n",
       "</div>"
      ],
      "text/plain": [
       "   precipitation  temp_max  temp_min      wind  weather  weather_encoded\n",
       "0       0.000000      12.8       5.0  2.167948  drizzle                0\n",
       "1       3.301515      10.6       2.8  2.121320     rain                2\n",
       "2       0.894427      11.7       7.2  1.516575     rain                2\n",
       "3       4.505552      12.2       5.6  2.167948     rain                2\n",
       "4       1.140175       8.9       2.8  2.469818     rain                2"
      ]
     },
     "execution_count": 248,
     "metadata": {},
     "output_type": "execute_result"
    }
   ],
   "source": [
    "df.head()"
   ]
  },
  {
   "cell_type": "code",
   "execution_count": 249,
   "id": "eebe9eda",
   "metadata": {
    "executionInfo": {
     "elapsed": 119,
     "status": "ok",
     "timestamp": 1657088041153,
     "user": {
      "displayName": "Quang Trung Huỳnh",
      "userId": "18209785149827384474"
     },
     "user_tz": -420
    },
    "id": "eebe9eda",
    "papermill": {
     "duration": 0.074312,
     "end_time": "2022-01-20T02:34:49.841301",
     "exception": false,
     "start_time": "2022-01-20T02:34:49.766989",
     "status": "completed"
    },
    "tags": []
   },
   "outputs": [],
   "source": [
    "#we no longer need weather column \n",
    "if \"weather\" in df.columns:\n",
    "    df = df.drop(\"weather\", axis=1)\n",
    "\n",
    "\n",
    "x = ((df.loc[:,df.columns!=\"weather_encoded\"]).astype(int)).values[:,0:]\n",
    "y = df[\"weather_encoded\"].values"
   ]
  },
  {
   "cell_type": "code",
   "execution_count": 250,
   "id": "122d0943",
   "metadata": {
    "colab": {
     "base_uri": "https://localhost:8080/"
    },
    "executionInfo": {
     "elapsed": 119,
     "status": "ok",
     "timestamp": 1657088041155,
     "user": {
      "displayName": "Quang Trung Huỳnh",
      "userId": "18209785149827384474"
     },
     "user_tz": -420
    },
    "id": "122d0943",
    "outputId": "af89016c-0f01-4015-a6a6-ce11d1b1a1cd",
    "papermill": {
     "duration": 0.075375,
     "end_time": "2022-01-20T02:34:49.984280",
     "exception": false,
     "start_time": "2022-01-20T02:34:49.908905",
     "status": "completed"
    },
    "tags": []
   },
   "outputs": [
    {
     "data": {
      "text/plain": [
       "array([0, 2, 4, 3, 1])"
      ]
     },
     "execution_count": 250,
     "metadata": {},
     "output_type": "execute_result"
    }
   ],
   "source": [
    "df.weather_encoded.unique()"
   ]
  },
  {
   "cell_type": "code",
   "execution_count": 251,
   "id": "7696d246",
   "metadata": {
    "executionInfo": {
     "elapsed": 108,
     "status": "ok",
     "timestamp": 1657088041157,
     "user": {
      "displayName": "Quang Trung Huỳnh",
      "userId": "18209785149827384474"
     },
     "user_tz": -420
    },
    "id": "7696d246",
    "papermill": {
     "duration": 0.077963,
     "end_time": "2022-01-20T02:34:50.128599",
     "exception": false,
     "start_time": "2022-01-20T02:34:50.050636",
     "status": "completed"
    },
    "tags": []
   },
   "outputs": [],
   "source": [
    "x_train,x_test,y_train,y_test=train_test_split(x,y,test_size=0.1,random_state=2)"
   ]
  },
  {
   "cell_type": "markdown",
   "id": "9SKrE1rx1EIq",
   "metadata": {
    "id": "9SKrE1rx1EIq"
   },
   "source": [
    "We divide the dataset into two separate data sets including the training dataset and the test dataset with the corresponding ratio of 9:1 (this ratio is divided based on the number of data lines of the dataset). initial)."
   ]
  },
  {
   "cell_type": "markdown",
   "id": "926ff5bc",
   "metadata": {
    "id": "926ff5bc",
    "papermill": {
     "duration": 0.065657,
     "end_time": "2022-01-20T02:34:50.260554",
     "exception": false,
     "start_time": "2022-01-20T02:34:50.194897",
     "status": "completed"
    },
    "tags": []
   },
   "source": [
    "# **3.MODEL TRAINING:**"
   ]
  },
  {
   "cell_type": "markdown",
   "id": "5254f2e7",
   "metadata": {
    "id": "5254f2e7",
    "papermill": {
     "duration": 0.065713,
     "end_time": "2022-01-20T02:34:50.391676",
     "exception": false,
     "start_time": "2022-01-20T02:34:50.325963",
     "status": "completed"
    },
    "tags": []
   },
   "source": [
    "## 3.1. K-NEAREST NEIGHBOR CLASSIFIER."
   ]
  },
  {
   "cell_type": "code",
   "execution_count": 252,
   "id": "0835d244",
   "metadata": {
    "colab": {
     "base_uri": "https://localhost:8080/"
    },
    "executionInfo": {
     "elapsed": 108,
     "status": "ok",
     "timestamp": 1657088041159,
     "user": {
      "displayName": "Quang Trung Huỳnh",
      "userId": "18209785149827384474"
     },
     "user_tz": -420
    },
    "id": "0835d244",
    "outputId": "e07ef4f3-bd22-4829-c982-ff3416b3beaf",
    "papermill": {
     "duration": 0.082871,
     "end_time": "2022-01-20T02:34:50.540250",
     "exception": false,
     "start_time": "2022-01-20T02:34:50.457379",
     "status": "completed"
    },
    "tags": []
   },
   "outputs": [
    {
     "name": "stdout",
     "output_type": "stream",
     "text": [
      "KNN Accuracy: 0.7278911564625851\n"
     ]
    }
   ],
   "source": [
    "from sklearn.neighbors import KNeighborsClassifier\n",
    "\n",
    "# create a KNN classifier and fit it to the training data\n",
    "knn = KNeighborsClassifier()\n",
    "knn.fit(x_train, y_train)\n",
    "\n",
    "# calculate the accuracy score of the KNN classifier on the test data\n",
    "knn_score = knn.score(x_test, y_test)\n",
    "print(\"KNN Accuracy:\", knn_score)\n"
   ]
  },
  {
   "cell_type": "code",
   "execution_count": 253,
   "id": "I1fsntGAObw9",
   "metadata": {
    "colab": {
     "base_uri": "https://localhost:8080/"
    },
    "executionInfo": {
     "elapsed": 100,
     "status": "ok",
     "timestamp": 1657088041161,
     "user": {
      "displayName": "Quang Trung Huỳnh",
      "userId": "18209785149827384474"
     },
     "user_tz": -420
    },
    "id": "I1fsntGAObw9",
    "outputId": "e27360c1-334e-42ed-97e8-79768749df00"
   },
   "outputs": [
    {
     "name": "stdout",
     "output_type": "stream",
     "text": [
      "Confusion Matrix\n",
      "[[ 0  1  0  0  4]\n",
      " [ 0  0  0  0  5]\n",
      " [ 0  1 64  0 14]\n",
      " [ 0  1  2  2  1]\n",
      " [ 1  5  5  0 41]]\n"
     ]
    }
   ],
   "source": [
    "# use the KNN classifier to predict the labels of the test data\n",
    "y_pred_knn = knn.predict(x_test)\n",
    "\n",
    "# create a confusion matrix of the KNN classifier's predictions\n",
    "conf_matrix = confusion_matrix(y_test, y_pred_knn)\n",
    "\n",
    "# print the confusion matrix\n",
    "print(\"Confusion Matrix\")\n",
    "print(conf_matrix)\n"
   ]
  },
  {
   "cell_type": "code",
   "execution_count": 254,
   "id": "LoWXMW-jEbkc",
   "metadata": {
    "colab": {
     "base_uri": "https://localhost:8080/"
    },
    "executionInfo": {
     "elapsed": 91,
     "status": "ok",
     "timestamp": 1657088041162,
     "user": {
      "displayName": "Quang Trung Huỳnh",
      "userId": "18209785149827384474"
     },
     "user_tz": -420
    },
    "id": "LoWXMW-jEbkc",
    "outputId": "5dd1a055-0864-4229-b72f-c45f06e79e01"
   },
   "outputs": [
    {
     "name": "stdout",
     "output_type": "stream",
     "text": [
      "KNN Classification Report\n",
      "\n",
      "              precision    recall  f1-score   support\n",
      "\n",
      "           0       0.00      0.00      0.00         5\n",
      "           1       0.00      0.00      0.00         5\n",
      "           2       0.90      0.81      0.85        79\n",
      "           3       1.00      0.33      0.50         6\n",
      "           4       0.63      0.79      0.70        52\n",
      "\n",
      "    accuracy                           0.73       147\n",
      "   macro avg       0.51      0.39      0.41       147\n",
      "weighted avg       0.75      0.73      0.73       147\n",
      "\n"
     ]
    }
   ],
   "source": [
    "# print classification report for KNN\n",
    "print('KNN Classification Report\\n')\n",
    "# set zero_division parameter to 0 to avoid warning in case of empty classes\n",
    "print(classification_report(y_test, y_pred_knn, zero_division=0))\n"
   ]
  },
  {
   "cell_type": "markdown",
   "id": "ae87704f-0ab6-40c1-8017-d90b73c706da",
   "metadata": {
    "id": "ae87704f-0ab6-40c1-8017-d90b73c706da"
   },
   "source": [
    "## 3.2. DECISION TREE."
   ]
  },
  {
   "cell_type": "markdown",
   "id": "vQVcdjpODZqG",
   "metadata": {
    "id": "vQVcdjpODZqG"
   },
   "source": [
    "We proceed to build a model with different max_depth parameters from 1 to 7 to find the model with the best accuracy."
   ]
  },
  {
   "cell_type": "code",
   "execution_count": 255,
   "id": "114c92ff-2d55-434f-84ee-2f17c5cdc596",
   "metadata": {
    "colab": {
     "base_uri": "https://localhost:8080/"
    },
    "executionInfo": {
     "elapsed": 85,
     "status": "ok",
     "timestamp": 1657088041164,
     "user": {
      "displayName": "Quang Trung Huỳnh",
      "userId": "18209785149827384474"
     },
     "user_tz": -420
    },
    "id": "114c92ff-2d55-434f-84ee-2f17c5cdc596",
    "outputId": "af2b2bcc-7bf2-4225-860a-93217efd810c"
   },
   "outputs": [
    {
     "name": "stdout",
     "output_type": "stream",
     "text": [
      "Decision Tree Accuracy with max depth 1: 0.782312925170068\n",
      "Decision Tree Accuracy with max depth 2: 0.7959183673469388\n",
      "Decision Tree Accuracy with max depth 3: 0.8095238095238095\n",
      "Decision Tree Accuracy with max depth 4: 0.8095238095238095\n",
      "Decision Tree Accuracy with max depth 5: 0.8027210884353742\n",
      "Decision Tree Accuracy with max depth 6: 0.8095238095238095\n",
      "Decision Tree Accuracy with max depth 7: 0.8095238095238095\n"
     ]
    }
   ],
   "source": [
    "# Import the DecisionTreeClassifier from Scikit-learn\n",
    "from sklearn.tree import DecisionTreeClassifier\n",
    "\n",
    "# Define a range of maximum depths to try\n",
    "max_depth_range = range(1, 8)\n",
    "\n",
    "# Create a DecisionTreeClassifier for each maximum depth and evaluate its accuracy\n",
    "for depth in max_depth_range:\n",
    "    # Create a DecisionTreeClassifier with the current maximum depth, maximum number of leaf nodes, and a random seed\n",
    "    dec = DecisionTreeClassifier(max_depth=depth, max_leaf_nodes=15, random_state=0)\n",
    "  \n",
    "    # Fit the DecisionTreeClassifier on the training data\n",
    "    dec.fit(x_train, y_train)\n",
    "  \n",
    "    # Calculate the accuracy of the DecisionTreeClassifier on the test data\n",
    "    dec_score = dec.score(x_test, y_test)\n",
    "  \n",
    "    # Print the accuracy of the DecisionTreeClassifier for the current maximum depth\n",
    "    print(f\"Decision Tree Accuracy with max depth {depth}: {dec_score}\")\n"
   ]
  },
  {
   "cell_type": "markdown",
   "id": "AqCbGWHLWmTq",
   "metadata": {
    "id": "AqCbGWHLWmTq"
   },
   "source": [
    "We find that with max_depth between 2,6 and 7 we get the best Decision Tree model with 0.8225 confidence."
   ]
  },
  {
   "cell_type": "code",
   "execution_count": 256,
   "id": "mpsRrIrmQ0vK",
   "metadata": {
    "colab": {
     "base_uri": "https://localhost:8080/"
    },
    "executionInfo": {
     "elapsed": 78,
     "status": "ok",
     "timestamp": 1657088041165,
     "user": {
      "displayName": "Quang Trung Huỳnh",
      "userId": "18209785149827384474"
     },
     "user_tz": -420
    },
    "id": "mpsRrIrmQ0vK",
    "outputId": "7818cff8-6901-479a-bff1-4bcca19dd4b2"
   },
   "outputs": [
    {
     "name": "stdout",
     "output_type": "stream",
     "text": [
      "Confusion Matrix:\n",
      "[[ 0  0  0  0  5]\n",
      " [ 0  0  0  0  5]\n",
      " [ 0  0 63  1 15]\n",
      " [ 0  0  1  4  1]\n",
      " [ 0  0  0  0 52]]\n"
     ]
    }
   ],
   "source": [
    "# Use the DecisionTreeClassifier to predict classes for the test data\n",
    "y_pred_dec = dec.predict(x_test)\n",
    "\n",
    "# Calculate the confusion matrix using the predicted and actual classes\n",
    "conf_matrix = confusion_matrix(y_test, y_pred_dec)\n",
    "\n",
    "# Print the confusion matrix to the console\n",
    "print(\"Confusion Matrix:\")\n",
    "print(conf_matrix)\n"
   ]
  },
  {
   "cell_type": "code",
   "execution_count": 257,
   "id": "Ql4up6whEt2N",
   "metadata": {
    "colab": {
     "base_uri": "https://localhost:8080/"
    },
    "executionInfo": {
     "elapsed": 69,
     "status": "ok",
     "timestamp": 1657088041167,
     "user": {
      "displayName": "Quang Trung Huỳnh",
      "userId": "18209785149827384474"
     },
     "user_tz": -420
    },
    "id": "Ql4up6whEt2N",
    "outputId": "b62b9f81-eff2-4048-d25d-8359e6736539"
   },
   "outputs": [
    {
     "name": "stdout",
     "output_type": "stream",
     "text": [
      "Decision Tree\n",
      "               precision    recall  f1-score   support\n",
      "\n",
      "           0       0.00      0.00      0.00         5\n",
      "           1       0.00      0.00      0.00         5\n",
      "           2       0.98      0.80      0.88        79\n",
      "           3       0.80      0.67      0.73         6\n",
      "           4       0.67      1.00      0.80        52\n",
      "\n",
      "    accuracy                           0.81       147\n",
      "   macro avg       0.49      0.49      0.48       147\n",
      "weighted avg       0.80      0.81      0.79       147\n",
      "\n"
     ]
    }
   ],
   "source": [
    "print('Decision Tree\\n',classification_report(y_test,y_pred_dec, zero_division=0))"
   ]
  },
  {
   "cell_type": "markdown",
   "id": "ce5df615-6988-4adf-aed5-6594d9b0fcec",
   "metadata": {
    "id": "ce5df615-6988-4adf-aed5-6594d9b0fcec"
   },
   "source": [
    "## 3.3. LOGISTIC REGRESSION"
   ]
  },
  {
   "cell_type": "code",
   "execution_count": 258,
   "id": "8844e041-891f-4716-8f39-d7d5f324f6b8",
   "metadata": {
    "colab": {
     "base_uri": "https://localhost:8080/"
    },
    "executionInfo": {
     "elapsed": 724,
     "status": "ok",
     "timestamp": 1657088041832,
     "user": {
      "displayName": "Quang Trung Huỳnh",
      "userId": "18209785149827384474"
     },
     "user_tz": -420
    },
    "id": "8844e041-891f-4716-8f39-d7d5f324f6b8",
    "outputId": "f078d500-fadb-4e15-cdfe-7b73cf43b3fa"
   },
   "outputs": [
    {
     "name": "stdout",
     "output_type": "stream",
     "text": [
      "Logistic Regression Accuracy: 0.8095238095238095\n"
     ]
    },
    {
     "name": "stderr",
     "output_type": "stream",
     "text": [
      "c:\\Users\\shubh\\AppData\\Local\\Programs\\Python\\Python311\\Lib\\site-packages\\sklearn\\linear_model\\_logistic.py:469: ConvergenceWarning: lbfgs failed to converge (status=1):\n",
      "STOP: TOTAL NO. of ITERATIONS REACHED LIMIT.\n",
      "\n",
      "Increase the number of iterations (max_iter) or scale the data as shown in:\n",
      "    https://scikit-learn.org/stable/modules/preprocessing.html\n",
      "Please also refer to the documentation for alternative solver options:\n",
      "    https://scikit-learn.org/stable/modules/linear_model.html#logistic-regression\n",
      "  n_iter_i = _check_optimize_result(\n"
     ]
    }
   ],
   "source": [
    "# Import the LogisticRegression class from Scikit-learn\n",
    "from sklearn.linear_model import LogisticRegression\n",
    "\n",
    "# Create a Logistic Regression classifier\n",
    "lg = LogisticRegression()\n",
    "\n",
    "# Train the Logistic Regression classifier on the training data\n",
    "lg.fit(x_train, y_train)\n",
    "\n",
    "# Calculate the accuracy of the Logistic Regression classifier on the test data\n",
    "lg_score = lg.score(x_test, y_test)\n",
    "\n",
    "# Print the accuracy of the Logistic Regression classifier\n",
    "print(f\"Logistic Regression Accuracy: {lg_score}\")\n"
   ]
  },
  {
   "cell_type": "code",
   "execution_count": 259,
   "id": "F6yONzyYREp3",
   "metadata": {
    "colab": {
     "base_uri": "https://localhost:8080/"
    },
    "executionInfo": {
     "elapsed": 27,
     "status": "ok",
     "timestamp": 1657088041833,
     "user": {
      "displayName": "Quang Trung Huỳnh",
      "userId": "18209785149827384474"
     },
     "user_tz": -420
    },
    "id": "F6yONzyYREp3",
    "outputId": "e46e2ebf-479e-4db3-8e02-1fc33d745b42"
   },
   "outputs": [
    {
     "name": "stdout",
     "output_type": "stream",
     "text": [
      "Confusion Matrix:\n",
      "[[ 0  0  1  0  4]\n",
      " [ 0  0  0  0  5]\n",
      " [ 0  0 65  0 14]\n",
      " [ 0  0  3  2  1]\n",
      " [ 0  0  0  0 52]]\n"
     ]
    }
   ],
   "source": [
    "# Use the trained Logistic Regression classifier to predict labels for the test data\n",
    "y_pred_lg = lg.predict(x_test)\n",
    "\n",
    "# Compute the confusion matrix for the predicted labels and the true labels\n",
    "conf_matrix = confusion_matrix(y_test, y_pred_lg)\n",
    "\n",
    "# Print the confusion matrix to the console\n",
    "print(\"Confusion Matrix:\")\n",
    "print(conf_matrix)\n"
   ]
  },
  {
   "cell_type": "code",
   "execution_count": 260,
   "id": "9u3wDpBKFMSE",
   "metadata": {
    "colab": {
     "base_uri": "https://localhost:8080/"
    },
    "executionInfo": {
     "elapsed": 19,
     "status": "ok",
     "timestamp": 1657088041835,
     "user": {
      "displayName": "Quang Trung Huỳnh",
      "userId": "18209785149827384474"
     },
     "user_tz": -420
    },
    "id": "9u3wDpBKFMSE",
    "outputId": "4df22c8f-6668-46f1-8786-2af6b5ac859b"
   },
   "outputs": [
    {
     "name": "stdout",
     "output_type": "stream",
     "text": [
      "Logistic Regression\n",
      "               precision    recall  f1-score   support\n",
      "\n",
      "           0       0.00      0.00      0.00         5\n",
      "           1       0.00      0.00      0.00         5\n",
      "           2       0.94      0.82      0.88        79\n",
      "           3       1.00      0.33      0.50         6\n",
      "           4       0.68      1.00      0.81        52\n",
      "\n",
      "    accuracy                           0.81       147\n",
      "   macro avg       0.53      0.43      0.44       147\n",
      "weighted avg       0.79      0.81      0.78       147\n",
      "\n"
     ]
    }
   ],
   "source": [
    "print('Logistic Regression\\n',classification_report(y_test,y_pred_lg, zero_division=0))"
   ]
  },
  {
   "cell_type": "markdown",
   "id": "yciavT1B4wX-",
   "metadata": {
    "id": "yciavT1B4wX-"
   },
   "source": [
    "## 3.4. MODEL RELIABILITY COMPARISON CHART."
   ]
  },
  {
   "cell_type": "code",
   "execution_count": 261,
   "id": "QXB2p3ak4-bu",
   "metadata": {
    "colab": {
     "base_uri": "https://localhost:8080/",
     "height": 547
    },
    "executionInfo": {
     "elapsed": 738,
     "status": "ok",
     "timestamp": 1657088042562,
     "user": {
      "displayName": "Quang Trung Huỳnh",
      "userId": "18209785149827384474"
     },
     "user_tz": -420
    },
    "id": "QXB2p3ak4-bu",
    "outputId": "2c5efa58-9d63-4291-cea9-e42a109af4a5"
   },
   "outputs": [
    {
     "name": "stderr",
     "output_type": "stream",
     "text": [
      "C:\\Users\\shubh\\AppData\\Local\\Temp\\ipykernel_10500\\3194738467.py:6: FutureWarning: \n",
      "\n",
      "Passing `palette` without assigning `hue` is deprecated and will be removed in v0.14.0. Assign the `x` variable to `hue` and set `legend=False` for the same effect.\n",
      "\n",
      "  ax = sns.barplot(x=models, y=accuracies, palette=\"mako\", saturation=1.5)\n"
     ]
    },
    {
     "data": {
      "image/png": "[encoded data removed]",
      "text/plain": [
       "<Figure size 2200x800 with 1 Axes>"
      ]
     },
     "metadata": {},
     "output_type": "display_data"
    }
   ],
   "source": [
    "models = [\"KNN\", \"DECISION TREE\", \"LOGISTIC REGRESSION\"]\n",
    "accuracies = [knn_score, dec_score, lg_score]\n",
    "\n",
    "sns.set_style(\"darkgrid\")\n",
    "plt.figure(figsize=(22,8))\n",
    "ax = sns.barplot(x=models, y=accuracies, palette=\"mako\", saturation=1.5)\n",
    "plt.xlabel(\"Models\", fontsize=20)\n",
    "plt.ylabel(\"Accuracy\", fontsize=20)\n",
    "plt.title(\"Accuracy of different Models\", fontsize=20)\n",
    "plt.xticks(fontsize=11, horizontalalignment=\"center\", rotation=8)\n",
    "plt.yticks(fontsize=13)\n",
    "\n",
    "for p in ax.patches:\n",
    "    ax.annotate(f'{p.get_height():.2%}', (p.get_x() + p.get_width()/2, p.get_height()*1.02), ha='center', fontsize='x-large')\n",
    "\n",
    "plt.show()\n"
   ]
  },
  {
   "cell_type": "markdown",
   "id": "ApPqmrMWZjC7",
   "metadata": {
    "id": "ApPqmrMWZjC7"
   },
   "source": [
    "## 3.5. BUILDING MODEL IN CASE OF KEEPING `date`."
   ]
  },
  {
   "cell_type": "markdown",
   "id": "sqohC_l7rSXk",
   "metadata": {
    "id": "sqohC_l7rSXk"
   },
   "source": [
    "The next question here is whether the `date` variable that we removed in the previous case affects the accuracy of the models and helps them predict more accurately. For example, our weather is affected by each season of the year, so we continue to build the model with the dataset without removing the `date` variable to test this assumption."
   ]
  },
  {
   "cell_type": "code",
   "execution_count": 262,
   "id": "dW1VTwJ4Z5NV",
   "metadata": {
    "colab": {
     "base_uri": "https://localhost:8080/",
     "height": 206
    },
    "executionInfo": {
     "elapsed": 85,
     "status": "ok",
     "timestamp": 1657088042571,
     "user": {
      "displayName": "Quang Trung Huỳnh",
      "userId": "18209785149827384474"
     },
     "user_tz": -420
    },
    "id": "dW1VTwJ4Z5NV",
    "outputId": "07be280a-e36b-4533-c154-d81072fb4374"
   },
   "outputs": [
    {
     "name": "stdout",
     "output_type": "stream",
     "text": [
      "         date  precipitation  temp_max  temp_min  wind  weather  \\\n",
      "0  2012-01-01            0.0      12.8       5.0   4.7  drizzle   \n",
      "1  2012-01-02           10.9      10.6       2.8   4.5     rain   \n",
      "2  2012-01-03            0.8      11.7       7.2   2.3     rain   \n",
      "3  2012-01-04           20.3      12.2       5.6   4.7     rain   \n",
      "4  2012-01-05            1.3       8.9       2.8   6.1     rain   \n",
      "\n",
      "   weather_encoded  \n",
      "0                0  \n",
      "1                2  \n",
      "2                2  \n",
      "3                2  \n",
      "4                2  \n"
     ]
    }
   ],
   "source": [
    "# Load the CSV file into a DataFrame\n",
    "df_date = pd.read_csv(\"dataset.csv\")\n",
    "\n",
    "# Display the first five rows of the DataFrame\n",
    "print(data.head())\n"
   ]
  },
  {
   "cell_type": "code",
   "execution_count": 263,
   "id": "YaUAes4t5-mn",
   "metadata": {
    "colab": {
     "base_uri": "https://localhost:8080/"
    },
    "executionInfo": {
     "elapsed": 94,
     "status": "ok",
     "timestamp": 1657088042586,
     "user": {
      "displayName": "Quang Trung Huỳnh",
      "userId": "18209785149827384474"
     },
     "user_tz": -420
    },
    "id": "YaUAes4t5-mn",
    "outputId": "a8449a43-3b0f-4a87-ce31-9b71443bbe8e"
   },
   "outputs": [
    {
     "name": "stdout",
     "output_type": "stream",
     "text": [
      "<class 'pandas.core.frame.DataFrame'>\n",
      "RangeIndex: 1461 entries, 0 to 1460\n",
      "Data columns (total 6 columns):\n",
      " #   Column         Non-Null Count  Dtype  \n",
      "---  ------         --------------  -----  \n",
      " 0   date           1461 non-null   object \n",
      " 1   precipitation  1461 non-null   float64\n",
      " 2   temp_max       1461 non-null   float64\n",
      " 3   temp_min       1461 non-null   float64\n",
      " 4   wind           1461 non-null   float64\n",
      " 5   weather        1461 non-null   object \n",
      "dtypes: float64(4), object(2)\n",
      "memory usage: 68.6+ KB\n"
     ]
    }
   ],
   "source": [
    "df_date.info()"
   ]
  },
  {
   "cell_type": "markdown",
   "id": "jVZ6rgQwqwqX",
   "metadata": {
    "id": "jVZ6rgQwqwqX"
   },
   "source": [
    "First, we convert the data type in the variable `date` from string to data type `Datetime`. Then remove the day and year attributes in `date`, extract and keep the month attribute because usually the weather often depends on the seasons of the year and the seasons of the year also change by month."
   ]
  },
  {
   "cell_type": "code",
   "execution_count": 264,
   "id": "ts-tsN8eaWVy",
   "metadata": {
    "colab": {
     "base_uri": "https://localhost:8080/"
    },
    "executionInfo": {
     "elapsed": 80,
     "status": "ok",
     "timestamp": 1657088042591,
     "user": {
      "displayName": "Quang Trung Huỳnh",
      "userId": "18209785149827384474"
     },
     "user_tz": -420
    },
    "id": "ts-tsN8eaWVy",
    "outputId": "4c0727cd-df03-434a-cb15-c9320cc22aa6"
   },
   "outputs": [
    {
     "data": {
      "text/plain": [
       "0        1\n",
       "1        1\n",
       "2        1\n",
       "3        1\n",
       "4        1\n",
       "        ..\n",
       "1456    12\n",
       "1457    12\n",
       "1458    12\n",
       "1459    12\n",
       "1460    12\n",
       "Name: date, Length: 1461, dtype: int32"
      ]
     },
     "execution_count": 264,
     "metadata": {},
     "output_type": "execute_result"
    }
   ],
   "source": [
    "df_date.date = pd.to_datetime(df_date.date).dt.month\n",
    "df_date.date"
   ]
  },
  {
   "cell_type": "markdown",
   "id": "q2ITIWB-tV7q",
   "metadata": {
    "id": "q2ITIWB-tV7q"
   },
   "source": [
    "We rename the variable `date` to `month` to match the data field it stores."
   ]
  },
  {
   "cell_type": "code",
   "execution_count": 265,
   "id": "j6hxIA6mpuM2",
   "metadata": {
    "colab": {
     "base_uri": "https://localhost:8080/",
     "height": 206
    },
    "executionInfo": {
     "elapsed": 71,
     "status": "ok",
     "timestamp": 1657088042592,
     "user": {
      "displayName": "Quang Trung Huỳnh",
      "userId": "18209785149827384474"
     },
     "user_tz": -420
    },
    "id": "j6hxIA6mpuM2",
    "outputId": "178aa261-c53d-4fcc-84c1-3770c196408d"
   },
   "outputs": [
    {
     "data": {
      "text/html": [
       "<div>\n",
       "<style scoped>\n",
       "    .dataframe tbody tr th:only-of-type {\n",
       "        vertical-align: middle;\n",
       "    }\n",
       "\n",
       "    .dataframe tbody tr th {\n",
       "        vertical-align: top;\n",
       "    }\n",
       "\n",
       "    .dataframe thead th {\n",
       "        text-align: right;\n",
       "    }\n",
       "</style>\n",
       "<table border=\"1\" class=\"dataframe\">\n",
       "  <thead>\n",
       "    <tr style=\"text-align: right;\">\n",
       "      <th></th>\n",
       "      <th>month</th>\n",
       "      <th>precipitation</th>\n",
       "      <th>temp_max</th>\n",
       "      <th>temp_min</th>\n",
       "      <th>wind</th>\n",
       "      <th>weather</th>\n",
       "    </tr>\n",
       "  </thead>\n",
       "  <tbody>\n",
       "    <tr>\n",
       "      <th>0</th>\n",
       "      <td>1</td>\n",
       "      <td>0.0</td>\n",
       "      <td>12.8</td>\n",
       "      <td>5.0</td>\n",
       "      <td>4.7</td>\n",
       "      <td>drizzle</td>\n",
       "    </tr>\n",
       "    <tr>\n",
       "      <th>1</th>\n",
       "      <td>1</td>\n",
       "      <td>10.9</td>\n",
       "      <td>10.6</td>\n",
       "      <td>2.8</td>\n",
       "      <td>4.5</td>\n",
       "      <td>rain</td>\n",
       "    </tr>\n",
       "    <tr>\n",
       "      <th>2</th>\n",
       "      <td>1</td>\n",
       "      <td>0.8</td>\n",
       "      <td>11.7</td>\n",
       "      <td>7.2</td>\n",
       "      <td>2.3</td>\n",
       "      <td>rain</td>\n",
       "    </tr>\n",
       "    <tr>\n",
       "      <th>3</th>\n",
       "      <td>1</td>\n",
       "      <td>20.3</td>\n",
       "      <td>12.2</td>\n",
       "      <td>5.6</td>\n",
       "      <td>4.7</td>\n",
       "      <td>rain</td>\n",
       "    </tr>\n",
       "    <tr>\n",
       "      <th>4</th>\n",
       "      <td>1</td>\n",
       "      <td>1.3</td>\n",
       "      <td>8.9</td>\n",
       "      <td>2.8</td>\n",
       "      <td>6.1</td>\n",
       "      <td>rain</td>\n",
       "    </tr>\n",
       "  </tbody>\n",
       "</table>\n",
       "</div>"
      ],
      "text/plain": [
       "   month  precipitation  temp_max  temp_min  wind  weather\n",
       "0      1            0.0      12.8       5.0   4.7  drizzle\n",
       "1      1           10.9      10.6       2.8   4.5     rain\n",
       "2      1            0.8      11.7       7.2   2.3     rain\n",
       "3      1           20.3      12.2       5.6   4.7     rain\n",
       "4      1            1.3       8.9       2.8   6.1     rain"
      ]
     },
     "execution_count": 265,
     "metadata": {},
     "output_type": "execute_result"
    }
   ],
   "source": [
    "df_date = df_date.rename(columns = {'date':'month'})\n",
    "df_date.head()"
   ]
  },
  {
   "cell_type": "code",
   "execution_count": 266,
   "id": "yEu65ELpN9-G",
   "metadata": {
    "colab": {
     "base_uri": "https://localhost:8080/",
     "height": 502
    },
    "executionInfo": {
     "elapsed": 434,
     "status": "ok",
     "timestamp": 1657088042964,
     "user": {
      "displayName": "Quang Trung Huỳnh",
      "userId": "18209785149827384474"
     },
     "user_tz": -420
    },
    "id": "yEu65ELpN9-G",
    "outputId": "9fefeb84-ff0a-48ed-e1de-8242185d95b7"
   },
   "outputs": [
    {
     "data": {
      "image/png": "[encoded data removed]",
      "text/plain": [
       "<Figure size 1000x800 with 1 Axes>"
      ]
     },
     "metadata": {},
     "output_type": "display_data"
    }
   ],
   "source": [
    "# Set the style to \"darkgrid\"\n",
    "sns.set(style=\"darkgrid\")\n",
    "\n",
    "# Create a figure and axes object with a specified size\n",
    "fig, axs = plt.subplots(figsize=(10, 8))\n",
    "\n",
    "# Create a histogram plot of the \"month\" column in the \"df_date\" dataframe with a kernel density estimate\n",
    "plot = sns.histplot(data=df_date, x=\"month\", kde=True, color='green')\n"
   ]
  },
  {
   "cell_type": "markdown",
   "id": "0--qs3MpWwx-",
   "metadata": {
    "id": "0--qs3MpWwx-"
   },
   "source": [
    "### 3.5.1. DATA PROCESSING AND CLEANING."
   ]
  },
  {
   "cell_type": "markdown",
   "id": "02clGrSfKy1K",
   "metadata": {
    "id": "02clGrSfKy1K"
   },
   "source": [
    "Similar to the previous section, we will also start processing and cleaning the data before building predictive models. This step has been done in quite detail in the above presentation, so we will not repeat it in this step. These include: removing outliers, dealing with skewed distributions, encoding `weather` variable data, and decomposing the dataset into train and test sets."
   ]
  },
  {
   "cell_type": "code",
   "execution_count": 267,
   "id": "RR7nQmf6XIkM",
   "metadata": {
    "executionInfo": {
     "elapsed": 14,
     "status": "ok",
     "timestamp": 1657088042965,
     "user": {
      "displayName": "Quang Trung Huỳnh",
      "userId": "18209785149827384474"
     },
     "user_tz": -420
    },
    "id": "RR7nQmf6XIkM"
   },
   "outputs": [
    {
     "name": "stdout",
     "output_type": "stream",
     "text": [
      "Original DataFrame shape: (1461, 5)\n",
      "DataFrame after removing outliers: (1380, 5)\n"
     ]
    }
   ],
   "source": [
    "# Calculate quartiles and IQR only on numeric columns\n",
    "# Use numeric_only=True to avoid operations on string columns\n",
    "Q1 = df.quantile(0.25, numeric_only=True)\n",
    "Q3 = df.quantile(0.75, numeric_only=True)\n",
    "IQR = Q3 - Q1\n",
    "\n",
    "# Create a mask for outlier detection\n",
    "# We need to handle each numeric column separately\n",
    "outlier_mask = pd.DataFrame(False, index=df.index, columns=df.columns)\n",
    "\n",
    "# Only check numeric columns for outliers\n",
    "numeric_cols = df.select_dtypes(include=['number']).columns\n",
    "for col in numeric_cols:\n",
    "    # Create lower and upper bounds for this column\n",
    "    lower_bound = Q1[col] - 1.5 * IQR[col]\n",
    "    upper_bound = Q3[col] + 1.5 * IQR[col]\n",
    "    \n",
    "    # Mark values outside the bounds as outliers\n",
    "    outlier_mask[col] = (df[col] < lower_bound) | (df[col] > upper_bound)\n",
    "\n",
    "# Keep rows that don't have outliers in any numeric column\n",
    "df_no_outliers = df[~outlier_mask.any(axis=1)]\n",
    "\n",
    "print(f\"Original DataFrame shape: {df.shape}\")\n",
    "print(f\"DataFrame after removing outliers: {df_no_outliers.shape}\")"
   ]
  },
  {
   "cell_type": "code",
   "execution_count": 268,
   "id": "1vVY_WCXp7hs",
   "metadata": {
    "executionInfo": {
     "elapsed": 15,
     "status": "ok",
     "timestamp": 1657088042967,
     "user": {
      "displayName": "Quang Trung Huỳnh",
      "userId": "18209785149827384474"
     },
     "user_tz": -420
    },
    "id": "1vVY_WCXp7hs"
   },
   "outputs": [],
   "source": [
    "\n",
    "df_date.precipitation=np.sqrt(df_date.precipitation)\n",
    "df_date.wind=np.sqrt(df_date.wind)"
   ]
  },
  {
   "cell_type": "code",
   "execution_count": 269,
   "id": "GPfzyuDRWo3t",
   "metadata": {
    "colab": {
     "base_uri": "https://localhost:8080/",
     "height": 614
    },
    "executionInfo": {
     "elapsed": 4723,
     "status": "ok",
     "timestamp": 1657088047676,
     "user": {
      "displayName": "Quang Trung Huỳnh",
      "userId": "18209785149827384474"
     },
     "user_tz": -420
    },
    "id": "GPfzyuDRWo3t",
    "outputId": "5ced2fc6-48d2-402d-d5ae-f7ae291c70c6"
   },
   "outputs": [
    {
     "data": {
      "image/png": "[encoded data removed]",
      "text/plain": [
       "<Figure size 1000x1000 with 6 Axes>"
      ]
     },
     "metadata": {},
     "output_type": "display_data"
    }
   ],
   "source": [
    "sns.set(style=\"darkgrid\")\n",
    "fig, axs = plt.subplots(2, 3, figsize=(10, 10))\n",
    "\n",
    "plots = [\"month\", \"precipitation\", \"temp_max\", \"temp_min\", \"wind\"]\n",
    "\n",
    "for i, plot in enumerate(plots):\n",
    "    sns.histplot(data=df_date, x=plot, kde=True, ax=axs[i//3, i%3], color=[\"blue\", \"green\", \"red\", \"skyblue\", \"orange\"][i])"
   ]
  },
  {
   "cell_type": "markdown",
   "id": "grs4pdnRr5IU",
   "metadata": {
    "id": "grs4pdnRr5IU"
   },
   "source": [
    "Next, we encode the weather conditions into values ​​from 0-4, then decompose the data into train and test sets."
   ]
  },
  {
   "cell_type": "code",
   "execution_count": 270,
   "id": "-vR-x5PrvuRP",
   "metadata": {
    "colab": {
     "base_uri": "https://localhost:8080/",
     "height": 206
    },
    "executionInfo": {
     "elapsed": 122,
     "status": "ok",
     "timestamp": 1657088047678,
     "user": {
      "displayName": "Quang Trung Huỳnh",
      "userId": "18209785149827384474"
     },
     "user_tz": -420
    },
    "id": "-vR-x5PrvuRP",
    "outputId": "f37a185f-606c-4be8-ea75-a2f2ac91d7aa"
   },
   "outputs": [
    {
     "data": {
      "text/html": [
       "<div>\n",
       "<style scoped>\n",
       "    .dataframe tbody tr th:only-of-type {\n",
       "        vertical-align: middle;\n",
       "    }\n",
       "\n",
       "    .dataframe tbody tr th {\n",
       "        vertical-align: top;\n",
       "    }\n",
       "\n",
       "    .dataframe thead th {\n",
       "        text-align: right;\n",
       "    }\n",
       "</style>\n",
       "<table border=\"1\" class=\"dataframe\">\n",
       "  <thead>\n",
       "    <tr style=\"text-align: right;\">\n",
       "      <th></th>\n",
       "      <th>month</th>\n",
       "      <th>precipitation</th>\n",
       "      <th>temp_max</th>\n",
       "      <th>temp_min</th>\n",
       "      <th>wind</th>\n",
       "      <th>weather</th>\n",
       "    </tr>\n",
       "  </thead>\n",
       "  <tbody>\n",
       "    <tr>\n",
       "      <th>0</th>\n",
       "      <td>1</td>\n",
       "      <td>0.000000</td>\n",
       "      <td>12.8</td>\n",
       "      <td>5.0</td>\n",
       "      <td>2.167948</td>\n",
       "      <td>0</td>\n",
       "    </tr>\n",
       "    <tr>\n",
       "      <th>1</th>\n",
       "      <td>1</td>\n",
       "      <td>3.301515</td>\n",
       "      <td>10.6</td>\n",
       "      <td>2.8</td>\n",
       "      <td>2.121320</td>\n",
       "      <td>2</td>\n",
       "    </tr>\n",
       "    <tr>\n",
       "      <th>2</th>\n",
       "      <td>1</td>\n",
       "      <td>0.894427</td>\n",
       "      <td>11.7</td>\n",
       "      <td>7.2</td>\n",
       "      <td>1.516575</td>\n",
       "      <td>2</td>\n",
       "    </tr>\n",
       "    <tr>\n",
       "      <th>3</th>\n",
       "      <td>1</td>\n",
       "      <td>4.505552</td>\n",
       "      <td>12.2</td>\n",
       "      <td>5.6</td>\n",
       "      <td>2.167948</td>\n",
       "      <td>2</td>\n",
       "    </tr>\n",
       "    <tr>\n",
       "      <th>4</th>\n",
       "      <td>1</td>\n",
       "      <td>1.140175</td>\n",
       "      <td>8.9</td>\n",
       "      <td>2.8</td>\n",
       "      <td>2.469818</td>\n",
       "      <td>2</td>\n",
       "    </tr>\n",
       "  </tbody>\n",
       "</table>\n",
       "</div>"
      ],
      "text/plain": [
       "   month  precipitation  temp_max  temp_min      wind  weather\n",
       "0      1       0.000000      12.8       5.0  2.167948        0\n",
       "1      1       3.301515      10.6       2.8  2.121320        2\n",
       "2      1       0.894427      11.7       7.2  1.516575        2\n",
       "3      1       4.505552      12.2       5.6  2.167948        2\n",
       "4      1       1.140175       8.9       2.8  2.469818        2"
      ]
     },
     "execution_count": 270,
     "metadata": {},
     "output_type": "execute_result"
    }
   ],
   "source": [
    "# Create a LabelEncoder object\n",
    "lc_date = LabelEncoder()\n",
    "\n",
    "# Encode the \"weather\" column of the DataFrame and replace it with the encoded values\n",
    "df_date[\"weather\"] = lc_date.fit_transform(df_date[\"weather\"])\n",
    "\n",
    "# Display the first few rows of the DataFrame to confirm the encoding\n",
    "df_date.head()"
   ]
  },
  {
   "cell_type": "code",
   "execution_count": 271,
   "id": "n8LnTMhpuGPh",
   "metadata": {
    "executionInfo": {
     "elapsed": 118,
     "status": "ok",
     "timestamp": 1657088047680,
     "user": {
      "displayName": "Quang Trung Huỳnh",
      "userId": "18209785149827384474"
     },
     "user_tz": -420
    },
    "id": "n8LnTMhpuGPh"
   },
   "outputs": [],
   "source": [
    "# Extract the feature and target variables from the DataFrame\n",
    "# Convert the features to integers and exclude the \"weather\" column\n",
    "x_date = df_date.loc[:, df_date.columns != \"weather\"].astype(int).values\n",
    "\n",
    "# Get the target variable as an array of values\n",
    "y_date = df_date[\"weather\"].values\n"
   ]
  },
  {
   "cell_type": "code",
   "execution_count": 272,
   "id": "9GZm52FIuo0F",
   "metadata": {
    "executionInfo": {
     "elapsed": 118,
     "status": "ok",
     "timestamp": 1657088047681,
     "user": {
      "displayName": "Quang Trung Huỳnh",
      "userId": "18209785149827384474"
     },
     "user_tz": -420
    },
    "id": "9GZm52FIuo0F"
   },
   "outputs": [],
   "source": [
    "# Split the \"x_date\" and \"y_date\" datasets into training and testing sets\n",
    "# with a test size of 0.1 (10% of the data) and a random state of 2 for reproducibility\n",
    "x_train_date, x_test_date, y_train_date, y_test_date = train_test_split(x_date, y_date, test_size=0.1, random_state=2)\n"
   ]
  },
  {
   "cell_type": "markdown",
   "id": "kZjx2T_vtm6h",
   "metadata": {
    "id": "kZjx2T_vtm6h"
   },
   "source": [
    "### 3.5.2. K-NEIGHBOR NEAREST CLASSIFIER."
   ]
  },
  {
   "cell_type": "code",
   "execution_count": 273,
   "id": "rhTPxWXht2rc",
   "metadata": {
    "colab": {
     "base_uri": "https://localhost:8080/"
    },
    "executionInfo": {
     "elapsed": 118,
     "status": "ok",
     "timestamp": 1657088047682,
     "user": {
      "displayName": "Quang Trung Huỳnh",
      "userId": "18209785149827384474"
     },
     "user_tz": -420
    },
    "id": "rhTPxWXht2rc",
    "outputId": "950986cd-8639-4961-e7a7-e4cfb33f5ea6"
   },
   "outputs": [
    {
     "name": "stdout",
     "output_type": "stream",
     "text": [
      "KNN Accuracy (with month column): 0.7755102040816326\n"
     ]
    }
   ],
   "source": [
    "# Create a KNeighborsClassifier object\n",
    "knn_date = KNeighborsClassifier()\n",
    "\n",
    "# Fit the model to the training data\n",
    "knn_date.fit(x_train_date, y_train_date)\n",
    "\n",
    "# Compute the accuracy score on the test data\n",
    "knn_date_score = knn_date.score(x_test_date, y_test_date)\n",
    "\n",
    "# Print the accuracy score\n",
    "print(\"KNN Accuracy (with month column):\", knn_date_score)\n"
   ]
  },
  {
   "cell_type": "code",
   "execution_count": 274,
   "id": "WQ1vcKrJxnez",
   "metadata": {
    "colab": {
     "base_uri": "https://localhost:8080/"
    },
    "executionInfo": {
     "elapsed": 111,
     "status": "ok",
     "timestamp": 1657088047685,
     "user": {
      "displayName": "Quang Trung Huỳnh",
      "userId": "18209785149827384474"
     },
     "user_tz": -420
    },
    "id": "WQ1vcKrJxnez",
    "outputId": "0373d217-17e0-4954-c4c3-e3a27b21429d"
   },
   "outputs": [
    {
     "name": "stdout",
     "output_type": "stream",
     "text": [
      "Confusion Matrix (with month column)\n",
      "[[ 0  1  0  0  4]\n",
      " [ 1  0  0  0  4]\n",
      " [ 1  0 67  0 11]\n",
      " [ 0  0  4  2  0]\n",
      " [ 1  2  4  0 45]]\n"
     ]
    }
   ],
   "source": [
    "# Use the KNN model to predict the target variable for the test set\n",
    "y_pred_knn_date = knn_date.predict(x_test_date)\n",
    "\n",
    "# Compute the confusion matrix for the KNN model predictions\n",
    "conf_matrix_knn_date = confusion_matrix(y_test_date, y_pred_knn_date)\n",
    "\n",
    "# Print the confusion matrix to the console\n",
    "print(\"Confusion Matrix (with month column)\")\n",
    "print(conf_matrix_knn_date)\n"
   ]
  },
  {
   "cell_type": "code",
   "execution_count": 275,
   "id": "9zpInbjix_72",
   "metadata": {
    "colab": {
     "base_uri": "https://localhost:8080/"
    },
    "executionInfo": {
     "elapsed": 104,
     "status": "ok",
     "timestamp": 1657088047687,
     "user": {
      "displayName": "Quang Trung Huỳnh",
      "userId": "18209785149827384474"
     },
     "user_tz": -420
    },
    "id": "9zpInbjix_72",
    "outputId": "416fb587-4e2d-429e-bb46-685b03445c21"
   },
   "outputs": [
    {
     "name": "stdout",
     "output_type": "stream",
     "text": [
      "KNN (with month column)\n",
      "               precision    recall  f1-score   support\n",
      "\n",
      "           0       0.00      0.00      0.00         5\n",
      "           1       0.00      0.00      0.00         5\n",
      "           2       0.89      0.85      0.87        79\n",
      "           3       1.00      0.33      0.50         6\n",
      "           4       0.70      0.87      0.78        52\n",
      "\n",
      "    accuracy                           0.78       147\n",
      "   macro avg       0.52      0.41      0.43       147\n",
      "weighted avg       0.77      0.78      0.76       147\n",
      "\n"
     ]
    }
   ],
   "source": [
    "print('KNN (with month column)\\n',classification_report(y_test_date,y_pred_knn_date, zero_division=0))"
   ]
  },
  {
   "cell_type": "markdown",
   "id": "Xp2Mss-G87De",
   "metadata": {
    "id": "Xp2Mss-G87De"
   },
   "source": [
    "We can comment that adding the variable `month` in training the model in this case has increased the reliability of the model using KNN from 0.75 to approximately 0.802."
   ]
  },
  {
   "cell_type": "markdown",
   "id": "dOpJximOyQmD",
   "metadata": {
    "id": "dOpJximOyQmD"
   },
   "source": [
    "### 3.5.3. DECISION TREE."
   ]
  },
  {
   "cell_type": "code",
   "execution_count": 276,
   "id": "dn5BXpEPyY3B",
   "metadata": {
    "colab": {
     "base_uri": "https://localhost:8080/"
    },
    "executionInfo": {
     "elapsed": 98,
     "status": "ok",
     "timestamp": 1657088047689,
     "user": {
      "displayName": "Quang Trung Huỳnh",
      "userId": "18209785149827384474"
     },
     "user_tz": -420
    },
    "id": "dn5BXpEPyY3B",
    "outputId": "45f46b23-7526-4759-f2da-8bd326e3fff3"
   },
   "outputs": [
    {
     "name": "stdout",
     "output_type": "stream",
     "text": [
      "Decision Tree Accuracy (with month column) for max_depth= 1 :  0.782312925170068\n",
      "Decision Tree Accuracy (with month column) for max_depth= 2 :  0.7959183673469388\n",
      "Decision Tree Accuracy (with month column) for max_depth= 3 :  0.8095238095238095\n",
      "Decision Tree Accuracy (with month column) for max_depth= 4 :  0.8095238095238095\n",
      "Decision Tree Accuracy (with month column) for max_depth= 5 :  0.8027210884353742\n",
      "Decision Tree Accuracy (with month column) for max_depth= 6 :  0.8027210884353742\n",
      "Decision Tree Accuracy (with month column) for max_depth= 7 :  0.7959183673469388\n"
     ]
    }
   ],
   "source": [
    "from sklearn.tree import DecisionTreeClassifier\n",
    "\n",
    "# Import the DecisionTreeClassifier model from sklearn.tree\n",
    "# Create a list of values for the \"max_depth\" parameter to test\n",
    "max_depth_range_date = list(range(1, 8))\n",
    "\n",
    "# Loop through each value of \"max_depth\" in the list\n",
    "for depth in max_depth_range_date:\n",
    "  # Create a DecisionTreeClassifier model with the current value of \"max_depth\",\n",
    "  # a fixed \"max_leaf_nodes\" value of 15, and a fixed \"random_state\" value of 0\n",
    "  dec_date = DecisionTreeClassifier(max_depth=depth, max_leaf_nodes=15, random_state=0)\n",
    "  \n",
    "  # Fit the model to the training data\n",
    "  dec_date.fit(x_train_date, y_train_date)\n",
    "  \n",
    "  # Evaluate the model's accuracy on the test data\n",
    "  dec_date_score = dec_date.score(x_test_date, y_test_date)\n",
    "  \n",
    "  # Print the accuracy score to the console, along with the current value of \"max_depth\"\n",
    "  print(\"Decision Tree Accuracy (with month column) for max_depth=\", depth, \": \", dec_date_score)\n"
   ]
  },
  {
   "cell_type": "code",
   "execution_count": 277,
   "id": "WGea0n_s4ZMK",
   "metadata": {
    "colab": {
     "base_uri": "https://localhost:8080/"
    },
    "executionInfo": {
     "elapsed": 90,
     "status": "ok",
     "timestamp": 1657088047691,
     "user": {
      "displayName": "Quang Trung Huỳnh",
      "userId": "18209785149827384474"
     },
     "user_tz": -420
    },
    "id": "WGea0n_s4ZMK",
    "outputId": "9ec88d39-028b-4af7-9e87-0ce89dd4711a"
   },
   "outputs": [
    {
     "name": "stdout",
     "output_type": "stream",
     "text": [
      "Confusion Matrix (with month column)\n",
      "[[ 0  0  0  0  5]\n",
      " [ 0  0  0  0  5]\n",
      " [ 0  1 63  1 14]\n",
      " [ 0  0  1  4  1]\n",
      " [ 0  1  1  0 50]]\n"
     ]
    }
   ],
   "source": [
    "from sklearn.metrics import confusion_matrix\n",
    "\n",
    "# Use the Decision Tree model to predict the target variable for the test set\n",
    "y_pred_dec_date = dec_date.predict(x_test_date)\n",
    "\n",
    "# Compute the confusion matrix for the Decision Tree model predictions\n",
    "conf_matrix_dec_date = confusion_matrix(y_test_date, y_pred_dec_date)\n",
    "\n",
    "# Print the confusion matrix to the console\n",
    "print(\"Confusion Matrix (with month column)\")\n",
    "print(conf_matrix_dec_date)\n"
   ]
  },
  {
   "cell_type": "code",
   "execution_count": 278,
   "id": "sO2DIFlO432o",
   "metadata": {
    "colab": {
     "base_uri": "https://localhost:8080/"
    },
    "executionInfo": {
     "elapsed": 84,
     "status": "ok",
     "timestamp": 1657088047694,
     "user": {
      "displayName": "Quang Trung Huỳnh",
      "userId": "18209785149827384474"
     },
     "user_tz": -420
    },
    "id": "sO2DIFlO432o",
    "outputId": "3f554545-0090-4ac5-c8af-f4233b8c5753"
   },
   "outputs": [
    {
     "name": "stdout",
     "output_type": "stream",
     "text": [
      "Decision Tree (with month column)\n",
      "               precision    recall  f1-score   support\n",
      "\n",
      "           0       0.00      0.00      0.00         5\n",
      "           1       0.00      0.00      0.00         5\n",
      "           2       0.97      0.80      0.88        79\n",
      "           3       0.80      0.67      0.73         6\n",
      "           4       0.67      0.96      0.79        52\n",
      "\n",
      "    accuracy                           0.80       147\n",
      "   macro avg       0.49      0.49      0.48       147\n",
      "weighted avg       0.79      0.80      0.78       147\n",
      "\n"
     ]
    }
   ],
   "source": [
    "print('Decision Tree (with month column)\\n',classification_report(y_test_date,y_pred_dec_date, zero_division=0))"
   ]
  },
  {
   "cell_type": "markdown",
   "id": "Pxv3JPst573V",
   "metadata": {
    "id": "Pxv3JPst573V"
   },
   "source": [
    "Accuracy has decreased in this case"
   ]
  },
  {
   "cell_type": "markdown",
   "id": "zwrr2h3D64hZ",
   "metadata": {
    "id": "zwrr2h3D64hZ"
   },
   "source": [
    "### 3.5.4. LOGISTIC REGRESSION."
   ]
  },
  {
   "cell_type": "code",
   "execution_count": 279,
   "id": "QC2Bx6gC6_io",
   "metadata": {
    "colab": {
     "base_uri": "https://localhost:8080/"
    },
    "executionInfo": {
     "elapsed": 75,
     "status": "ok",
     "timestamp": 1657088047697,
     "user": {
      "displayName": "Quang Trung Huỳnh",
      "userId": "18209785149827384474"
     },
     "user_tz": -420
    },
    "id": "QC2Bx6gC6_io",
    "outputId": "58a2441a-dea1-4c82-fd5b-43704be33c40"
   },
   "outputs": [
    {
     "name": "stdout",
     "output_type": "stream",
     "text": [
      "Logistic Accuracy (with month column):  0.8027210884353742\n"
     ]
    },
    {
     "name": "stderr",
     "output_type": "stream",
     "text": [
      "c:\\Users\\shubh\\AppData\\Local\\Programs\\Python\\Python311\\Lib\\site-packages\\sklearn\\linear_model\\_logistic.py:469: ConvergenceWarning: lbfgs failed to converge (status=1):\n",
      "STOP: TOTAL NO. of ITERATIONS REACHED LIMIT.\n",
      "\n",
      "Increase the number of iterations (max_iter) or scale the data as shown in:\n",
      "    https://scikit-learn.org/stable/modules/preprocessing.html\n",
      "Please also refer to the documentation for alternative solver options:\n",
      "    https://scikit-learn.org/stable/modules/linear_model.html#logistic-regression\n",
      "  n_iter_i = _check_optimize_result(\n"
     ]
    }
   ],
   "source": [
    "from sklearn.linear_model import LogisticRegression\n",
    "\n",
    "# Create a new logistic regression model for the \"x_date\" and \"y_date\" datasets\n",
    "lg_date = LogisticRegression()\n",
    "\n",
    "# Fit the logistic regression model to the training data\n",
    "lg_date.fit(x_train_date, y_train_date)\n",
    "\n",
    "# Use the logistic regression model to predict the target variable for the test set\n",
    "lg_date_score = lg_date.score(x_test_date, y_test_date)\n",
    "\n",
    "# Print the accuracy score of the logistic regression model to the console\n",
    "print(\"Logistic Accuracy (with month column): \", lg_date_score)\n"
   ]
  },
  {
   "cell_type": "code",
   "execution_count": 280,
   "id": "EPAgm9S57tt4",
   "metadata": {
    "colab": {
     "base_uri": "https://localhost:8080/"
    },
    "executionInfo": {
     "elapsed": 67,
     "status": "ok",
     "timestamp": 1657088047698,
     "user": {
      "displayName": "Quang Trung Huỳnh",
      "userId": "18209785149827384474"
     },
     "user_tz": -420
    },
    "id": "EPAgm9S57tt4",
    "outputId": "240e61c6-6681-4d28-912c-ee25be119bc5"
   },
   "outputs": [
    {
     "name": "stdout",
     "output_type": "stream",
     "text": [
      "Confusion Matrix (with month column)\n",
      "[[ 0  0  0  0  5]\n",
      " [ 0  0  0  0  5]\n",
      " [ 0  0 64  0 15]\n",
      " [ 0  0  3  2  1]\n",
      " [ 0  0  0  0 52]]\n"
     ]
    }
   ],
   "source": [
    "from sklearn.metrics import confusion_matrix\n",
    "\n",
    "# Use the logistic regression model to predict the target variable for the test set\n",
    "y_pred_lg_date = lg_date.predict(x_test_date)\n",
    "\n",
    "# Compute the confusion matrix for the logistic regression model predictions\n",
    "conf_matrix_date = confusion_matrix(y_test_date, y_pred_lg_date)\n",
    "\n",
    "# Print the confusion matrix to the console\n",
    "print(\"Confusion Matrix (with month column)\")\n",
    "print(conf_matrix_date)\n"
   ]
  },
  {
   "cell_type": "code",
   "execution_count": 281,
   "id": "hKrYWavb76ln",
   "metadata": {
    "colab": {
     "base_uri": "https://localhost:8080/"
    },
    "executionInfo": {
     "elapsed": 60,
     "status": "ok",
     "timestamp": 1657088047700,
     "user": {
      "displayName": "Quang Trung Huỳnh",
      "userId": "18209785149827384474"
     },
     "user_tz": -420
    },
    "id": "hKrYWavb76ln",
    "outputId": "fa9779b7-74fd-4084-f902-72b74aa36a4d"
   },
   "outputs": [
    {
     "name": "stdout",
     "output_type": "stream",
     "text": [
      "Logistic Regression (with month column)\n",
      "               precision    recall  f1-score   support\n",
      "\n",
      "           0       0.00      0.00      0.00         5\n",
      "           1       0.00      0.00      0.00         5\n",
      "           2       0.96      0.81      0.88        79\n",
      "           3       1.00      0.33      0.50         6\n",
      "           4       0.67      1.00      0.80        52\n",
      "\n",
      "    accuracy                           0.80       147\n",
      "   macro avg       0.52      0.43      0.44       147\n",
      "weighted avg       0.79      0.80      0.77       147\n",
      "\n"
     ]
    }
   ],
   "source": [
    "print('Logistic Regression (with month column)\\n',classification_report(y_test_date,y_pred_lg_date, zero_division=0))"
   ]
  },
  {
   "cell_type": "markdown",
   "id": "OBOOR4xv8DDS",
   "metadata": {
    "id": "OBOOR4xv8DDS"
   },
   "source": [
    "Based on the above, we can see that adding the variable `month` has increased the reliability of the model using Logistic Regression."
   ]
  },
  {
   "cell_type": "markdown",
   "id": "G2ScA6c63Xxv",
   "metadata": {
    "id": "G2ScA6c63Xxv"
   },
   "source": [
    "### 3.5.5. CASE OF KEEPING `date` VARIABLE AS YYYY-MM-DD FORMAT.\n",
    "One last test is the case where we keep the `date` variable in the format YYYY-MM-DD to check its effect on the final result."
   ]
  },
  {
   "cell_type": "code",
   "execution_count": 282,
   "id": "a0bKSpol3q5z",
   "metadata": {
    "colab": {
     "base_uri": "https://localhost:8080/",
     "height": 206
    },
    "executionInfo": {
     "elapsed": 750,
     "status": "ok",
     "timestamp": 1657088048397,
     "user": {
      "displayName": "Quang Trung Huỳnh",
      "userId": "18209785149827384474"
     },
     "user_tz": -420
    },
    "id": "a0bKSpol3q5z",
    "outputId": "8bc9b608-c7ae-4f41-ff74-360054e4a574"
   },
   "outputs": [
    {
     "name": "stdout",
     "output_type": "stream",
     "text": [
      "         date  precipitation  temp_max  temp_min  wind  weather\n",
      "0  2012-01-01            0.0      12.8       5.0   4.7  drizzle\n",
      "1  2012-01-02           10.9      10.6       2.8   4.5     rain\n",
      "2  2012-01-03            0.8      11.7       7.2   2.3     rain\n",
      "3  2012-01-04           20.3      12.2       5.6   4.7     rain\n",
      "4  2012-01-05            1.3       8.9       2.8   6.1     rain\n"
     ]
    }
   ],
   "source": [
    "# Load the CSV file into a DataFrame\n",
    "df3 = pd.read_csv(\"dataset.csv\")\n",
    "\n",
    "# Display the first five rows of the DataFrame\n",
    "print(df3.head())\n"
   ]
  },
  {
   "cell_type": "code",
   "execution_count": 283,
   "id": "7tidp79m6nGf",
   "metadata": {
    "executionInfo": {
     "elapsed": 90,
     "status": "ok",
     "timestamp": 1657088048400,
     "user": {
      "displayName": "Quang Trung Huỳnh",
      "userId": "18209785149827384474"
     },
     "user_tz": -420
    },
    "id": "7tidp79m6nGf"
   },
   "outputs": [
    {
     "name": "stdout",
     "output_type": "stream",
     "text": [
      "         date  precipitation  temp_max  temp_min  wind  weather\n",
      "0  2012-01-01            0.0      12.8       5.0   4.7  drizzle\n",
      "1  2012-01-02           10.9      10.6       2.8   4.5     rain\n",
      "2  2012-01-03            0.8      11.7       7.2   2.3     rain\n",
      "3  2012-01-04           20.3      12.2       5.6   4.7     rain\n",
      "4  2012-01-05            1.3       8.9       2.8   6.1     rain\n"
     ]
    }
   ],
   "source": [
    "\n",
    "df3 = pd.read_csv(\"dataset.csv\")\n",
    "print(df3.head())\n",
    "# Handling outliers using IQR method\n",
    "numeric_df3 = df3.select_dtypes(include=[np.number])\n",
    "Q1 = numeric_df3.quantile(0.25)\n",
    "Q3 = numeric_df3.quantile(0.75)\n",
    "IQR = Q3 - Q1\n",
    "df3 = df3[~((numeric_df3 < (Q1 - 1.5 * IQR)) | (numeric_df3 > (Q3 + 1.5 * IQR))).any(axis=1)]"
   ]
  },
  {
   "cell_type": "code",
   "execution_count": 284,
   "id": "WVukfulS62w4",
   "metadata": {
    "executionInfo": {
     "elapsed": 63,
     "status": "ok",
     "timestamp": 1657088048402,
     "user": {
      "displayName": "Quang Trung Huỳnh",
      "userId": "18209785149827384474"
     },
     "user_tz": -420
    },
    "id": "WVukfulS62w4"
   },
   "outputs": [],
   "source": [
    "# Handling skewed distributions.\n",
    "df3.precipitation=np.sqrt(df3.precipitation)\n",
    "df3.wind=np.sqrt(df3.wind)"
   ]
  },
  {
   "cell_type": "code",
   "execution_count": 285,
   "id": "p5QDM7yV67-K",
   "metadata": {
    "colab": {
     "base_uri": "https://localhost:8080/",
     "height": 206
    },
    "executionInfo": {
     "elapsed": 66,
     "status": "ok",
     "timestamp": 1657088048408,
     "user": {
      "displayName": "Quang Trung Huỳnh",
      "userId": "18209785149827384474"
     },
     "user_tz": -420
    },
    "id": "p5QDM7yV67-K",
    "outputId": "95e47294-2a57-45e0-dc37-3ebde26b8b0d"
   },
   "outputs": [
    {
     "data": {
      "text/html": [
       "<div>\n",
       "<style scoped>\n",
       "    .dataframe tbody tr th:only-of-type {\n",
       "        vertical-align: middle;\n",
       "    }\n",
       "\n",
       "    .dataframe tbody tr th {\n",
       "        vertical-align: top;\n",
       "    }\n",
       "\n",
       "    .dataframe thead th {\n",
       "        text-align: right;\n",
       "    }\n",
       "</style>\n",
       "<table border=\"1\" class=\"dataframe\">\n",
       "  <thead>\n",
       "    <tr style=\"text-align: right;\">\n",
       "      <th></th>\n",
       "      <th>date</th>\n",
       "      <th>precipitation</th>\n",
       "      <th>temp_max</th>\n",
       "      <th>temp_min</th>\n",
       "      <th>wind</th>\n",
       "      <th>weather</th>\n",
       "    </tr>\n",
       "  </thead>\n",
       "  <tbody>\n",
       "    <tr>\n",
       "      <th>0</th>\n",
       "      <td>2012-01-01</td>\n",
       "      <td>0.000000</td>\n",
       "      <td>12.8</td>\n",
       "      <td>5.0</td>\n",
       "      <td>2.167948</td>\n",
       "      <td>0</td>\n",
       "    </tr>\n",
       "    <tr>\n",
       "      <th>2</th>\n",
       "      <td>2012-01-03</td>\n",
       "      <td>0.894427</td>\n",
       "      <td>11.7</td>\n",
       "      <td>7.2</td>\n",
       "      <td>1.516575</td>\n",
       "      <td>2</td>\n",
       "    </tr>\n",
       "    <tr>\n",
       "      <th>4</th>\n",
       "      <td>2012-01-05</td>\n",
       "      <td>1.140175</td>\n",
       "      <td>8.9</td>\n",
       "      <td>2.8</td>\n",
       "      <td>2.469818</td>\n",
       "      <td>2</td>\n",
       "    </tr>\n",
       "    <tr>\n",
       "      <th>5</th>\n",
       "      <td>2012-01-06</td>\n",
       "      <td>1.581139</td>\n",
       "      <td>4.4</td>\n",
       "      <td>2.2</td>\n",
       "      <td>1.483240</td>\n",
       "      <td>2</td>\n",
       "    </tr>\n",
       "    <tr>\n",
       "      <th>6</th>\n",
       "      <td>2012-01-07</td>\n",
       "      <td>0.000000</td>\n",
       "      <td>7.2</td>\n",
       "      <td>2.8</td>\n",
       "      <td>1.516575</td>\n",
       "      <td>2</td>\n",
       "    </tr>\n",
       "  </tbody>\n",
       "</table>\n",
       "</div>"
      ],
      "text/plain": [
       "         date  precipitation  temp_max  temp_min      wind  weather\n",
       "0  2012-01-01       0.000000      12.8       5.0  2.167948        0\n",
       "2  2012-01-03       0.894427      11.7       7.2  1.516575        2\n",
       "4  2012-01-05       1.140175       8.9       2.8  2.469818        2\n",
       "5  2012-01-06       1.581139       4.4       2.2  1.483240        2\n",
       "6  2012-01-07       0.000000       7.2       2.8  1.516575        2"
      ]
     },
     "execution_count": 285,
     "metadata": {},
     "output_type": "execute_result"
    }
   ],
   "source": [
    "lc = LabelEncoder()\n",
    "df3[\"weather\"]=lc.fit_transform(df3[\"weather\"])\n",
    "df3.head()"
   ]
  },
  {
   "cell_type": "code",
   "execution_count": 286,
   "id": "lDCtzMA9707j",
   "metadata": {
    "colab": {
     "base_uri": "https://localhost:8080/"
    },
    "executionInfo": {
     "elapsed": 57,
     "status": "ok",
     "timestamp": 1657088048410,
     "user": {
      "displayName": "Quang Trung Huỳnh",
      "userId": "18209785149827384474"
     },
     "user_tz": -420
    },
    "id": "lDCtzMA9707j",
    "outputId": "8fb455c6-5388-4034-e77a-b5155086a85d"
   },
   "outputs": [
    {
     "name": "stdout",
     "output_type": "stream",
     "text": [
      "<class 'pandas.core.frame.DataFrame'>\n",
      "Index: 1233 entries, 0 to 1460\n",
      "Data columns (total 6 columns):\n",
      " #   Column         Non-Null Count  Dtype         \n",
      "---  ------         --------------  -----         \n",
      " 0   date           1233 non-null   datetime64[ns]\n",
      " 1   precipitation  1233 non-null   float64       \n",
      " 2   temp_max       1233 non-null   float64       \n",
      " 3   temp_min       1233 non-null   float64       \n",
      " 4   wind           1233 non-null   float64       \n",
      " 5   weather        1233 non-null   int32         \n",
      "dtypes: datetime64[ns](1), float64(4), int32(1)\n",
      "memory usage: 62.6 KB\n"
     ]
    }
   ],
   "source": [
    "df3.date = pd.to_datetime(df3.date)\n",
    "df3.info()"
   ]
  },
  {
   "cell_type": "code",
   "execution_count": 287,
   "id": "n5riZsiZ69fy",
   "metadata": {
    "executionInfo": {
     "elapsed": 857,
     "status": "ok",
     "timestamp": 1657088049222,
     "user": {
      "displayName": "Quang Trung Huỳnh",
      "userId": "18209785149827384474"
     },
     "user_tz": -420
    },
    "id": "n5riZsiZ69fy"
   },
   "outputs": [],
   "source": [
    "x_df3 = ((df3.loc[:,df3.columns!=\"weather\"]).astype(np.int64)).values[:,0:]\n",
    "y_df3 = df3[\"weather\"].values"
   ]
  },
  {
   "cell_type": "code",
   "execution_count": 288,
   "id": "MYRH7shc7AH1",
   "metadata": {
    "executionInfo": {
     "elapsed": 329,
     "status": "ok",
     "timestamp": 1657088049224,
     "user": {
      "displayName": "Quang Trung Huỳnh",
      "userId": "18209785149827384474"
     },
     "user_tz": -420
    },
    "id": "MYRH7shc7AH1"
   },
   "outputs": [],
   "source": [
    "x_train_df3,x_test_df3,y_train_df3,y_test_df3 = train_test_split(x_df3,y_df3,test_size=0.1,random_state=2)"
   ]
  },
  {
   "cell_type": "markdown",
   "id": "jSAV5AVA-3uF",
   "metadata": {
    "id": "jSAV5AVA-3uF"
   },
   "source": [
    "**K-NEIGHBOR NEAREST CLASSIFIER.**"
   ]
  },
  {
   "cell_type": "code",
   "execution_count": 289,
   "id": "PneLfLtv8Obo",
   "metadata": {
    "colab": {
     "base_uri": "https://localhost:8080/"
    },
    "executionInfo": {
     "elapsed": 327,
     "status": "ok",
     "timestamp": 1657088049225,
     "user": {
      "displayName": "Quang Trung Huỳnh",
      "userId": "18209785149827384474"
     },
     "user_tz": -420
    },
    "id": "PneLfLtv8Obo",
    "outputId": "42e6cd8e-2140-468c-8138-11df677dc16f"
   },
   "outputs": [
    {
     "name": "stdout",
     "output_type": "stream",
     "text": [
      "KNN Accuracy: 0.6290322580645161\n"
     ]
    }
   ],
   "source": [
    "from sklearn.neighbors import KNeighborsClassifier\n",
    "\n",
    "# Instantiate a KNN model\n",
    "knn_df3 = KNeighborsClassifier()\n",
    "\n",
    "# Train the KNN model using the training data\n",
    "knn_df3.fit(x_train_df3, y_train_df3)\n",
    "\n",
    "# Evaluate the accuracy of the KNN model on the test data\n",
    "knn_score_df3 = knn_df3.score(x_test_df3, y_test_df3)\n",
    "\n",
    "# Print the KNN model accuracy to the console\n",
    "print(\"KNN Accuracy:\", knn_score_df3)\n"
   ]
  },
  {
   "cell_type": "markdown",
   "id": "Jodf3aAV_jdb",
   "metadata": {
    "id": "Jodf3aAV_jdb"
   },
   "source": [
    "* The K-Neighbor Nearest Classifier model has reduced the accuracy to only 0.629. Compared to the two cases above, this case gives the worst results."
   ]
  },
  {
   "cell_type": "markdown",
   "id": "FH0HbnE7D8t-",
   "metadata": {
    "id": "FH0HbnE7D8t-"
   },
   "source": [
    "**DECISION TREE.**"
   ]
  },
  {
   "cell_type": "code",
   "execution_count": 290,
   "id": "xirpL22c_rSG",
   "metadata": {
    "colab": {
     "base_uri": "https://localhost:8080/"
    },
    "executionInfo": {
     "elapsed": 315,
     "status": "ok",
     "timestamp": 1657088049227,
     "user": {
      "displayName": "Quang Trung Huỳnh",
      "userId": "18209785149827384474"
     },
     "user_tz": -420
    },
    "id": "xirpL22c_rSG",
    "outputId": "b33a7277-fb59-435f-cff6-dcaf19792598"
   },
   "outputs": [
    {
     "name": "stdout",
     "output_type": "stream",
     "text": [
      "Decision Tree Accuracy:  0.8064516129032258\n",
      "Decision Tree Accuracy:  0.8145161290322581\n",
      "Decision Tree Accuracy:  0.7903225806451613\n",
      "Decision Tree Accuracy:  0.8467741935483871\n",
      "Decision Tree Accuracy:  0.8145161290322581\n",
      "Decision Tree Accuracy:  0.8145161290322581\n",
      "Decision Tree Accuracy:  0.8145161290322581\n"
     ]
    }
   ],
   "source": [
    "# Decision Tree\n",
    "from sklearn.tree import DecisionTreeClassifier\n",
    "\n",
    "# Create a list of max depth values to try\n",
    "max_depth_range = list(range(1, 8))\n",
    "\n",
    "# Train and evaluate a decision tree model with varying max depth values\n",
    "for depth in max_depth_range:\n",
    "    \n",
    "    # Create a decision tree classifier with the current max depth value and other parameters\n",
    "    dec_df3 = DecisionTreeClassifier(max_depth=depth, max_leaf_nodes=15, random_state=0)\n",
    "    \n",
    "    # Train the decision tree model on the training data\n",
    "    dec_df3.fit(x_train_df3, y_train_df3)\n",
    "    \n",
    "    # Compute the accuracy of the decision tree model on the testing data\n",
    "    dec_score_df3 = dec_df3.score(x_test_df3, y_test_df3)\n",
    "    \n",
    "    # Print the accuracy score to the console\n",
    "    print(\"Decision Tree Accuracy: \", dec_score_df3)\n"
   ]
  },
  {
   "cell_type": "markdown",
   "id": "mdrF0lE-AAiF",
   "metadata": {
    "id": "mdrF0lE-AAiF"
   },
   "source": [
    "* Decision Tree model with variable `date` preserved in YYYY-MM-DD format gave the model with confidence 0.8387 with parameter max_depth = 4. This is the model with the best reliability among them. the results we have."
   ]
  },
  {
   "cell_type": "markdown",
   "id": "snensQQPD_ZO",
   "metadata": {
    "id": "snensQQPD_ZO"
   },
   "source": [
    "**LOGISTIC REGRESSION**"
   ]
  },
  {
   "cell_type": "code",
   "execution_count": 291,
   "id": "zTjQYpZJAej4",
   "metadata": {
    "colab": {
     "base_uri": "https://localhost:8080/"
    },
    "executionInfo": {
     "elapsed": 300,
     "status": "ok",
     "timestamp": 1657088049228,
     "user": {
      "displayName": "Quang Trung Huỳnh",
      "userId": "18209785149827384474"
     },
     "user_tz": -420
    },
    "id": "zTjQYpZJAej4",
    "outputId": "0f37d469-782a-49a3-d9ad-d771b440c429"
   },
   "outputs": [
    {
     "name": "stdout",
     "output_type": "stream",
     "text": [
      "Logistic Accuracy :  0.6129032258064516\n"
     ]
    }
   ],
   "source": [
    "from sklearn.linear_model import LogisticRegression\n",
    "\n",
    "# Create a logistic regression model object\n",
    "lg_df3 = LogisticRegression()\n",
    "\n",
    "# Train the logistic regression model on the training data\n",
    "lg_df3.fit(x_train_df3, y_train_df3)\n",
    "\n",
    "# Evaluate the logistic regression model on the test data\n",
    "# by computing the accuracy score\n",
    "lg_score_df3 = lg_df3.score(x_test_df3, y_test_df3)\n",
    "\n",
    "# Print the accuracy score to the console\n",
    "print(\"Logistic Accuracy : \", lg_score_df3)\n"
   ]
  },
  {
   "cell_type": "markdown",
   "id": "ggX9_StsAz2P",
   "metadata": {
    "id": "ggX9_StsAz2P"
   },
   "source": [
    "The model above only gives 0.008 accuracy, which is an extremely low result."
   ]
  },
  {
   "cell_type": "markdown",
   "id": "gW6VnomJKc1B",
   "metadata": {
    "id": "gW6VnomJKc1B"
   },
   "source": [
    "**Conclusion: When keeping the date variable in YYYY-MM-DD format, we got a higher accuracy than other cases of 0.83.87 in the model using Decision Tree. But in this case there will be an unreasonable thing that we predict the weather but rely on an exact date-month-year (YYYY-MM-DD), this is a bit impractical compared to relying solely on monthly (MM) information.**"
   ]
  },
  {
   "cell_type": "markdown",
   "id": "77be3b66",
   "metadata": {
    "id": "77be3b66",
    "papermill": {
     "duration": 0.066285,
     "end_time": "2022-01-20T02:34:56.316043",
     "exception": false,
     "start_time": "2022-01-20T02:34:56.249758",
     "status": "completed"
    },
    "tags": []
   },
   "source": [
    "# **4.Model Testing**"
   ]
  },
  {
   "cell_type": "markdown",
   "id": "k_Bw0x59rOEh",
   "metadata": {
    "id": "k_Bw0x59rOEh"
   },
   "source": [
    "Here, we will use a typical model from the number of models built above to test the results. We will choose a model built with Decision Tree with variable `month` that stores month information extracted from `date` variable, with parameter max_depth = 4. This model has an accuracy of 0.8387."
   ]
  },
  {
   "cell_type": "code",
   "execution_count": 292,
   "id": "XGoR6rrKr4Ep",
   "metadata": {
    "colab": {
     "base_uri": "https://localhost:8080/"
    },
    "executionInfo": {
     "elapsed": 255,
     "status": "ok",
     "timestamp": 1657088049229,
     "user": {
      "displayName": "Quang Trung Huỳnh",
      "userId": "18209785149827384474"
     },
     "user_tz": -420
    },
    "id": "XGoR6rrKr4Ep",
    "outputId": "e95a3916-a70a-4b00-95a8-d683da4a8e02"
   },
   "outputs": [
    {
     "name": "stdout",
     "output_type": "stream",
     "text": [
      "Decision Tree Accuracy:  0.8467741935483871\n"
     ]
    }
   ],
   "source": [
    "# Create a decision tree classifier with the current max depth value and other parameters\n",
    "dec_df3 = DecisionTreeClassifier(max_depth=4, max_leaf_nodes=15, random_state=0)\n",
    "\n",
    "# Train the decision tree model on the training data\n",
    "dec_df3.fit(x_train_df3, y_train_df3)\n",
    "\n",
    "# Compute the accuracy of the decision tree model on the testing data\n",
    "dec_score_df3 = dec_df3.score(x_test_df3, y_test_df3)\n",
    "\n",
    "# Print the accuracy score to the console\n",
    "print(\"Decision Tree Accuracy: \", dec_score_df3)"
   ]
  },
  {
   "cell_type": "code",
   "execution_count": 293,
   "id": "13bafbcb-e019-46fb-a2d6-695360432495",
   "metadata": {
    "colab": {
     "base_uri": "https://localhost:8080/"
    },
    "executionInfo": {
     "elapsed": 235,
     "status": "ok",
     "timestamp": 1657088049231,
     "user": {
      "displayName": "Quang Trung Huỳnh",
      "userId": "18209785149827384474"
     },
     "user_tz": -420
    },
    "id": "13bafbcb-e019-46fb-a2d6-695360432495",
    "outputId": "b93970ec-4c21-4e6d-9907-f5832df53178"
   },
   "outputs": [
    {
     "name": "stdout",
     "output_type": "stream",
     "text": [
      "----------------------------------\n",
      "The weather predict is: Sun\n",
      "The weather actual is: Sun\n",
      "----------------------------------\n",
      "The weather predict is: Snow\n",
      "The weather actual is: Snow\n",
      "----------------------------------\n",
      "The weather predict is: Sun\n",
      "The weather actual is: Sun\n",
      "----------------------------------\n",
      "The weather predict is: Sun\n",
      "The weather actual is: Sun\n",
      "----------------------------------\n",
      "The weather predict is: Snow\n",
      "The weather actual is: Snow\n",
      "----------------------------------\n",
      "The weather predict is: Rain\n",
      "The weather actual is: Rain\n",
      "----------------------------------\n",
      "The weather predict is: Sun\n",
      "The weather actual is: Sun\n",
      "----------------------------------\n",
      "The weather predict is: Sun\n",
      "The weather actual is: Sun\n",
      "----------------------------------\n",
      "The weather predict is: Rain\n",
      "The weather actual is: Rain\n",
      "----------------------------------\n",
      "The weather predict is: Rain\n",
      "The weather actual is: Rain\n",
      "----------------------------------\n",
      "The weather predict is: Sun\n",
      "The weather actual is: Sun\n",
      "----------------------------------\n",
      "The weather predict is: Sun\n",
      "The weather actual is: Sun\n",
      "----------------------------------\n",
      "The weather predict is: Sun\n",
      "The weather actual is: Sun\n",
      "----------------------------------\n",
      "The weather predict is: Sun\n",
      "The weather actual is: Sun\n",
      "----------------------------------\n",
      "The weather predict is: Sun\n",
      "The weather actual is: Sun\n",
      "----------------------------------\n",
      "The weather predict is: Rain\n",
      "The weather actual is: Rain\n",
      "----------------------------------\n",
      "The weather predict is: Sun\n",
      "The weather actual is: Sun\n",
      "----------------------------------\n",
      "The weather predict is: Sun\n",
      "The weather actual is: Sun\n",
      "----------------------------------\n",
      "The weather predict is: Sun\n",
      "The weather actual is: Sun\n",
      "----------------------------------\n",
      "The weather predict is: Rain\n",
      "The weather actual is: Rain\n",
      "----------------------------------\n",
      "The weather predict is: Sun\n",
      "The weather actual is: Sun\n",
      "----------------------------------\n",
      "The weather predict is: Sun\n",
      "The weather actual is: Sun\n",
      "----------------------------------\n",
      "The weather predict is: Sun\n",
      "The weather actual is: Rain\n",
      "----------------------------------\n",
      "The weather predict is: Sun\n",
      "The weather actual is: Fog\n",
      "----------------------------------\n",
      "The weather predict is: Rain\n",
      "The weather actual is: Rain\n",
      "----------------------------------\n",
      "The weather predict is: Sun\n",
      "The weather actual is: Sun\n",
      "----------------------------------\n",
      "The weather predict is: Sun\n",
      "The weather actual is: Sun\n",
      "----------------------------------\n",
      "The weather predict is: Sun\n",
      "The weather actual is: Sun\n",
      "----------------------------------\n",
      "The weather predict is: Sun\n",
      "The weather actual is: Sun\n",
      "----------------------------------\n",
      "The weather predict is: Sun\n",
      "The weather actual is: Sun\n",
      "----------------------------------\n",
      "The weather predict is: Sun\n",
      "The weather actual is: Sun\n",
      "----------------------------------\n",
      "The weather predict is: Rain\n",
      "The weather actual is: Rain\n",
      "----------------------------------\n",
      "The weather predict is: Sun\n",
      "The weather actual is: Sun\n",
      "----------------------------------\n",
      "The weather predict is: Sun\n",
      "The weather actual is: Sun\n",
      "----------------------------------\n",
      "The weather predict is: Rain\n",
      "The weather actual is: Rain\n",
      "----------------------------------\n",
      "The weather predict is: Sun\n",
      "The weather actual is: Sun\n",
      "----------------------------------\n",
      "The weather predict is: Sun\n",
      "The weather actual is: Sun\n",
      "----------------------------------\n",
      "The weather predict is: Sun\n",
      "The weather actual is: Sun\n",
      "----------------------------------\n",
      "The weather predict is: Rain\n",
      "The weather actual is: Rain\n",
      "----------------------------------\n",
      "The weather predict is: Sun\n",
      "The weather actual is: Sun\n",
      "----------------------------------\n",
      "The weather predict is: Sun\n",
      "The weather actual is: Sun\n",
      "----------------------------------\n",
      "The weather predict is: Sun\n",
      "The weather actual is: Sun\n",
      "----------------------------------\n",
      "The weather predict is: Rain\n",
      "The weather actual is: Rain\n",
      "----------------------------------\n",
      "The weather predict is: Sun\n",
      "The weather actual is: Sun\n",
      "----------------------------------\n",
      "The weather predict is: Sun\n",
      "The weather actual is: Sun\n",
      "----------------------------------\n",
      "The weather predict is: Sun\n",
      "The weather actual is: Rain\n",
      "----------------------------------\n",
      "The weather predict is: Rain\n",
      "The weather actual is: Rain\n",
      "----------------------------------\n",
      "The weather predict is: Rain\n",
      "The weather actual is: Rain\n",
      "----------------------------------\n",
      "The weather predict is: Sun\n",
      "The weather actual is: Sun\n",
      "----------------------------------\n",
      "The weather predict is: Rain\n",
      "The weather actual is: Sun\n",
      "----------------------------------\n",
      "The weather predict is: Sun\n",
      "The weather actual is: Sun\n",
      "----------------------------------\n",
      "The weather predict is: Sun\n",
      "The weather actual is: Drizzle\n",
      "----------------------------------\n",
      "The weather predict is: Sun\n",
      "The weather actual is: Sun\n",
      "----------------------------------\n",
      "The weather predict is: Sun\n",
      "The weather actual is: Sun\n",
      "----------------------------------\n",
      "The weather predict is: Sun\n",
      "The weather actual is: Sun\n",
      "----------------------------------\n",
      "The weather predict is: Sun\n",
      "The weather actual is: Rain\n",
      "----------------------------------\n",
      "The weather predict is: Sun\n",
      "The weather actual is: Sun\n",
      "----------------------------------\n",
      "The weather predict is: Sun\n",
      "The weather actual is: Sun\n",
      "----------------------------------\n",
      "The weather predict is: Sun\n",
      "The weather actual is: Sun\n",
      "----------------------------------\n",
      "The weather predict is: Sun\n",
      "The weather actual is: Sun\n",
      "----------------------------------\n",
      "The weather predict is: Snow\n",
      "The weather actual is: Snow\n",
      "----------------------------------\n",
      "The weather predict is: Rain\n",
      "The weather actual is: Rain\n",
      "----------------------------------\n",
      "The weather predict is: Sun\n",
      "The weather actual is: Sun\n",
      "----------------------------------\n",
      "The weather predict is: Rain\n",
      "The weather actual is: Rain\n",
      "----------------------------------\n",
      "The weather predict is: Sun\n",
      "The weather actual is: Sun\n",
      "----------------------------------\n",
      "The weather predict is: Sun\n",
      "The weather actual is: Sun\n",
      "----------------------------------\n",
      "The weather predict is: Sun\n",
      "The weather actual is: Sun\n",
      "----------------------------------\n",
      "The weather predict is: Sun\n",
      "The weather actual is: Sun\n",
      "----------------------------------\n",
      "The weather predict is: Sun\n",
      "The weather actual is: Fog\n",
      "----------------------------------\n",
      "The weather predict is: Rain\n",
      "The weather actual is: Rain\n",
      "----------------------------------\n",
      "The weather predict is: Sun\n",
      "The weather actual is: Sun\n",
      "----------------------------------\n",
      "The weather predict is: Rain\n",
      "The weather actual is: Rain\n",
      "----------------------------------\n",
      "The weather predict is: Sun\n",
      "The weather actual is: Sun\n",
      "----------------------------------\n",
      "The weather predict is: Fog\n",
      "The weather actual is: Fog\n",
      "----------------------------------\n",
      "The weather predict is: Rain\n",
      "The weather actual is: Rain\n",
      "----------------------------------\n",
      "The weather predict is: Sun\n",
      "The weather actual is: Fog\n",
      "----------------------------------\n",
      "The weather predict is: Sun\n",
      "The weather actual is: Sun\n",
      "----------------------------------\n",
      "The weather predict is: Fog\n",
      "The weather actual is: Sun\n",
      "----------------------------------\n",
      "The weather predict is: Rain\n",
      "The weather actual is: Rain\n",
      "----------------------------------\n",
      "The weather predict is: Sun\n",
      "The weather actual is: Sun\n",
      "----------------------------------\n",
      "The weather predict is: Rain\n",
      "The weather actual is: Rain\n",
      "----------------------------------\n",
      "The weather predict is: Sun\n",
      "The weather actual is: Sun\n",
      "----------------------------------\n",
      "The weather predict is: Sun\n",
      "The weather actual is: Sun\n",
      "----------------------------------\n",
      "The weather predict is: Sun\n",
      "The weather actual is: Sun\n",
      "----------------------------------\n",
      "The weather predict is: Sun\n",
      "The weather actual is: Sun\n",
      "----------------------------------\n",
      "The weather predict is: Rain\n",
      "The weather actual is: Rain\n",
      "----------------------------------\n",
      "The weather predict is: Sun\n",
      "The weather actual is: Fog\n",
      "----------------------------------\n",
      "The weather predict is: Sun\n",
      "The weather actual is: Sun\n",
      "----------------------------------\n",
      "The weather predict is: Sun\n",
      "The weather actual is: Sun\n",
      "----------------------------------\n",
      "The weather predict is: Rain\n",
      "The weather actual is: Rain\n",
      "----------------------------------\n",
      "The weather predict is: Rain\n",
      "The weather actual is: Rain\n",
      "----------------------------------\n",
      "The weather predict is: Rain\n",
      "The weather actual is: Sun\n",
      "----------------------------------\n",
      "The weather predict is: Sun\n",
      "The weather actual is: Sun\n",
      "----------------------------------\n",
      "The weather predict is: Rain\n",
      "The weather actual is: Rain\n",
      "----------------------------------\n",
      "The weather predict is: Rain\n",
      "The weather actual is: Rain\n",
      "----------------------------------\n",
      "The weather predict is: Rain\n",
      "The weather actual is: Rain\n",
      "----------------------------------\n",
      "The weather predict is: Sun\n",
      "The weather actual is: Fog\n",
      "----------------------------------\n",
      "The weather predict is: Rain\n",
      "The weather actual is: Rain\n",
      "----------------------------------\n",
      "The weather predict is: Sun\n",
      "The weather actual is: Fog\n",
      "----------------------------------\n",
      "The weather predict is: Sun\n",
      "The weather actual is: Sun\n",
      "----------------------------------\n",
      "The weather predict is: Sun\n",
      "The weather actual is: Sun\n",
      "----------------------------------\n",
      "The weather predict is: Sun\n",
      "The weather actual is: Sun\n",
      "----------------------------------\n",
      "The weather predict is: Sun\n",
      "The weather actual is: Sun\n",
      "----------------------------------\n",
      "The weather predict is: Sun\n",
      "The weather actual is: Sun\n",
      "----------------------------------\n",
      "The weather predict is: Rain\n",
      "The weather actual is: Rain\n",
      "----------------------------------\n",
      "The weather predict is: Sun\n",
      "The weather actual is: Sun\n",
      "----------------------------------\n",
      "The weather predict is: Sun\n",
      "The weather actual is: Rain\n",
      "----------------------------------\n",
      "The weather predict is: Sun\n",
      "The weather actual is: Sun\n",
      "----------------------------------\n",
      "The weather predict is: Sun\n",
      "The weather actual is: Sun\n",
      "----------------------------------\n",
      "The weather predict is: Sun\n",
      "The weather actual is: Fog\n",
      "----------------------------------\n",
      "The weather predict is: Sun\n",
      "The weather actual is: Sun\n",
      "----------------------------------\n",
      "The weather predict is: Sun\n",
      "The weather actual is: Sun\n",
      "----------------------------------\n",
      "The weather predict is: Sun\n",
      "The weather actual is: Fog\n",
      "----------------------------------\n",
      "The weather predict is: Sun\n",
      "The weather actual is: Sun\n",
      "----------------------------------\n",
      "The weather predict is: Snow\n",
      "The weather actual is: Rain\n",
      "----------------------------------\n",
      "The weather predict is: Sun\n",
      "The weather actual is: Sun\n",
      "----------------------------------\n",
      "The weather predict is: Sun\n",
      "The weather actual is: Sun\n",
      "----------------------------------\n",
      "The weather predict is: Rain\n",
      "The weather actual is: Rain\n",
      "----------------------------------\n",
      "The weather predict is: Sun\n",
      "The weather actual is: Fog\n",
      "----------------------------------\n",
      "The weather predict is: Sun\n",
      "The weather actual is: Sun\n",
      "----------------------------------\n",
      "The weather predict is: Sun\n",
      "The weather actual is: Sun\n",
      "----------------------------------\n",
      "The weather predict is: Sun\n",
      "The weather actual is: Sun\n",
      "----------------------------------\n",
      "The weather predict is: Sun\n",
      "The weather actual is: Fog\n",
      "----------------------------------\n",
      "The weather predict is: Sun\n",
      "The weather actual is: Sun\n"
     ]
    }
   ],
   "source": [
    "for i in (range(len(y_test_df3))):\n",
    "    print(\"----------------------------------\")\n",
    "    ot = dec_df3.predict([x_test_df3[i]])\n",
    "    if(ot==0):\n",
    "        print(\"The weather predict is: Drizzle\")\n",
    "    elif(ot==1):\n",
    "        print(\"The weather predict is: Fog\")\n",
    "    elif(ot==2):\n",
    "        print(\"The weather predict is: Rain\")\n",
    "    elif(ot==3):\n",
    "        print(\"The weather predict is: Snow\")\n",
    "    else:\n",
    "        print(\"The weather predict is: Sun\")\n",
    "    ac = y_test_df3[i]\n",
    "    if(ac==0):\n",
    "        print(\"The weather actual is: Drizzle\")\n",
    "    elif(ac==1):\n",
    "        print(\"The weather actual is: Fog\")\n",
    "    elif(ac==2):\n",
    "        print(\"The weather actual is: Rain\")\n",
    "    elif(ac==3):\n",
    "        print(\"The weather actual is: Snow\")\n",
    "    else:\n",
    "        print(\"The weather actual is: Sun\")"
   ]
  },
  {
   "cell_type": "code",
   "execution_count": 294,
   "id": "f86a7356",
   "metadata": {
    "colab": {
     "base_uri": "https://localhost:8080/"
    },
    "executionInfo": {
     "elapsed": 78,
     "status": "ok",
     "timestamp": 1657088049233,
     "user": {
      "displayName": "Quang Trung Huỳnh",
      "userId": "18209785149827384474"
     },
     "user_tz": -420
    },
    "id": "f86a7356",
    "outputId": "55c097ee-4cd1-4b27-e5e9-9b4e47de57fe",
    "papermill": {
     "duration": 0.085743,
     "end_time": "2022-01-20T02:34:56.468413",
     "exception": false,
     "start_time": "2022-01-20T02:34:56.382670",
     "status": "completed"
    },
    "tags": []
   },
   "outputs": [
    {
     "name": "stdout",
     "output_type": "stream",
     "text": [
      "The weather is:\n",
      "Sun\n"
     ]
    }
   ],
   "source": [
    "input=[[10,0.3,15.6,0.0,2.5]]\n",
    "ot = dec_df3.predict(input)\n",
    "print(\"The weather is:\")\n",
    "if(ot==0):\n",
    "    print(\"Drizzle\")\n",
    "elif(ot==1):\n",
    "    print(\"Fog\")\n",
    "elif(ot==2):\n",
    "    print(\"Rain\")\n",
    "elif(ot==3):\n",
    "    print(\"Snow\")\n",
    "else:\n",
    "    print(\"Sun\")"
   ]
  },
  {
   "cell_type": "markdown",
   "id": "375e9ea9",
   "metadata": {},
   "source": [
    "Visit [AiHubProjects](https://aihubprojects.com/) for more AI Projects and Tutorials"
   ]
  }
 ],
 "metadata": {
  "colab": {
   "collapsed_sections": [],
   "name": "WeatherPrediction_Group15.ipynb",
   "provenance": [
    {
     "file_id": "1jcfBaPFQCiVsq_Q2_ottUTOexYGJulW5",
     "timestamp": 1655912799932
    },
    {
     "file_id": "1Xd4yOJoMOB1An5E06XR2QFxdGmDUCnqP",
     "timestamp": 1655691596107
    }
   ]
  },
  "kernelspec": {
   "display_name": "Python 3",
   "language": "python",
   "name": "python3"
  },
  "language_info": {
   "codemirror_mode": {
    "name": "ipython",
    "version": 3
   },
   "file_extension": ".py",
   "mimetype": "text/x-python",
   "name": "python",
   "nbconvert_exporter": "python",
   "pygments_lexer": "ipython3",
   "version": "3.11.3"
  },
  "papermill": {
   "default_parameters": {},
   "duration": 30.793591,
   "end_time": "2022-01-20T02:34:57.346390",
   "environment_variables": {},
   "exception": null,
   "input_path": "__notebook__.ipynb",
   "output_path": "__notebook__.ipynb",
   "parameters": {},
   "start_time": "2022-01-20T02:34:26.552799",
   "version": "2.3.3"
  }
 },
 "nbformat": 4,
 "nbformat_minor": 5
}
